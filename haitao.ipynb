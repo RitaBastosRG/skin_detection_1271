{
 "cells": [
  {
   "cell_type": "code",
   "execution_count": 308,
   "metadata": {},
   "outputs": [],
   "source": [
    "import pandas as pd\n",
    "\n",
    "categories= ['MEL', 'NV', 'BCC', 'AK', 'BKL', 'DF', 'VASC', 'SCC']\n",
    "sizes =     [0.15,  0.25, 0.15,  0.10, 0.15,  0.05,  0.05,  0.10]\n",
    "\n",
    "# to load the raw data\n",
    "def load_raw_data():\n",
    "    # set data source\n",
    "    data_url = 'raw_data/ISIC_2019_Training_GroundTruth.csv'\n",
    "    data = pd.read_csv(data_url)\n",
    "    # Added a Cat column for conviniences\n",
    "    data['Cat']=''\n",
    "    \n",
    "    # Add Cat info of each row\n",
    "    for c in categories:\n",
    "        data.loc[data[c]>0, 'Cat']=c\n",
    "        \n",
    "    # Added a label/target column\n",
    "    data['y']=0\n",
    "    data['y']=(data.MEL+data.BCC+data.AK+data.SCC).astype(int)\n",
    "    \n",
    "    return data\n",
    "\n",
    "def get_data_number(data, number):\n",
    "    result = pd.DataFrame()\n",
    "    for c in categories:\n",
    "        result = pd.concat([result, data[data[c]>0].sample(number, random_state=42)], ignore_index=True)\n",
    "    return result\n",
    "\n",
    "def get_data_propotional(data, number):\n",
    "    result = pd.DataFrame()\n",
    "    numbers=np.multiply(sizes, number).astype(int)\n",
    "    for i in range(8):\n",
    "        result = pd.concat([result, data[data[categories[i]]>0].sample(numbers[i], random_state=42, replace=True)], ignore_index=True)\n",
    "    return result\n",
    "\n",
    "def get_data(number=80):\n",
    "    \"\"\"\n",
    "    when number is less than 800, return the 8 categories evenly.\n",
    "    when the number is larger than 800 return the 8 categories as per the following percentages:\n",
    "    NV=25%, BKL=15%, DF=5%, UASC=5%, MEL=15%, BCC=15%, AK=10%, SCC=10% \n",
    "    if the number is negative, return the entire dataset\n",
    "    \"\"\"\n",
    "    data = load_raw_data()\n",
    "\n",
    "    if number<0 or number>data.shape[0]:\n",
    "            result = data\n",
    "    else:\n",
    "        if (number<800):\n",
    "                result =get_data_number(data, number=number//8)\n",
    "        else:\n",
    "                result = get_data_propotional(data, number=number)\n",
    "    # randomize the data\n",
    "    result = result.sample(frac=1, random_state=42).reset_index(drop=True)\n",
    "    \n",
    "    return result"
   ]
  },
  {
   "cell_type": "code",
   "execution_count": 309,
   "metadata": {},
   "outputs": [
    {
     "data": {
      "text/plain": [
       "(25331, 12)"
      ]
     },
     "execution_count": 309,
     "metadata": {},
     "output_type": "execute_result"
    }
   ],
   "source": [
    "data = get_data(30000)\n",
    "data.shape"
   ]
  }
 ],
 "metadata": {
  "kernelspec": {
   "display_name": "skin_detection_1271",
   "language": "python",
   "name": "python3"
  },
  "language_info": {
   "codemirror_mode": {
    "name": "ipython",
    "version": 3
   },
   "file_extension": ".py",
   "mimetype": "text/x-python",
   "name": "python",
   "nbconvert_exporter": "python",
   "pygments_lexer": "ipython3",
   "version": "3.10.6"
  },
  "orig_nbformat": 4
 },
 "nbformat": 4,
 "nbformat_minor": 2
}
