{
 "cells": [
  {
   "cell_type": "code",
   "execution_count": 206,
   "metadata": {},
   "outputs": [],
   "source": [
    "import pandas as pd\n",
    "import numpy as np\n",
    "\n",
    "categories= ['MEL', 'NV', 'BCC', 'AK', 'BKL', 'DF', 'VASC', 'SCC']\n",
    "sizes =     [0.15,  0.25, 0.15,  0.10, 0.15,  0.05,  0.05,  0.10]\n",
    "\n",
    "# set data source\n",
    "data_url = 'raw_data/ISIC_2019_Training_GroundTruth.csv'\n",
    "# load data\n",
    "data = pd.read_csv(data_url)\n",
    "# Added a Cat column for conviniences\n",
    "data['Cat']=''\n",
    "for c in categories:\n",
    "    data.loc[data[c]>0, 'Cat']=c\n",
    "    \n",
    "# Added a label/target column\n",
    "data['y']=0\n",
    "data['y']=(data.MEL+data.BCC+data.AK+data.SCC).astype(int)"
   ]
  },
  {
   "cell_type": "code",
   "execution_count": 207,
   "metadata": {},
   "outputs": [],
   "source": [
    "def get_data_number(number):\n",
    "    result = pd.DataFrame()\n",
    "    for c in categories:\n",
    "        result = pd.concat([result, data[data[c]>0].sample(number, random_state=42)], ignore_index=True)\n",
    "    print(result)\n",
    "    return result\n",
    "\n",
    "def get_data_propotional(number):\n",
    "    result = pd.DataFrame()\n",
    "    numbers=np.multiply(sizes, number).astype(int)\n",
    "    for i in range(8):\n",
    "        \n",
    "        result = pd.concat([result, data[data[categories[i]]>0].sample(numbers[i], random_state=42)], ignore_index=True)\n",
    "    return result\n",
    "\n",
    "def get_data(number=10):\n",
    "    \"\"\"\n",
    "    when number is lesst than 800, return the 8 categories evenly.\n",
    "    when the number is larger than 800 return the 8 categories as per the following percentages:\n",
    "    NV=25%, BKL=15%, DF=5%, UASC=5%, MEL=15%, BCC=15%, AK=10%, SCC=10% \n",
    "    if the number is negative, return the entire dataset\n",
    "    \"\"\"\n",
    "    if number<0:\n",
    "        return data\n",
    "    if (number<800):\n",
    "        get_data_number(number=number//8)\n",
    "    else:\n",
    "        return get_data_propotional(number=number)"
   ]
  },
  {
   "cell_type": "code",
   "execution_count": 209,
   "metadata": {},
   "outputs": [
    {
     "name": "stdout",
     "output_type": "stream",
     "text": [
      "           image  MEL   NV  BCC   AK  BKL   DF  VASC  SCC  UNK  Cat  y\n",
      "0   ISIC_0068778  1.0  0.0  0.0  0.0  0.0  0.0   0.0  0.0  0.0  MEL  1\n",
      "1   ISIC_0058285  1.0  0.0  0.0  0.0  0.0  0.0   0.0  0.0  0.0  MEL  1\n",
      "2   ISIC_0073194  1.0  0.0  0.0  0.0  0.0  0.0   0.0  0.0  0.0  MEL  1\n",
      "3   ISIC_0058003  1.0  0.0  0.0  0.0  0.0  0.0   0.0  0.0  0.0  MEL  1\n",
      "4   ISIC_0070105  1.0  0.0  0.0  0.0  0.0  0.0   0.0  0.0  0.0  MEL  1\n",
      "..           ...  ...  ...  ...  ...  ...  ...   ...  ...  ...  ... ..\n",
      "91  ISIC_0027678  0.0  0.0  0.0  0.0  0.0  0.0   0.0  1.0  0.0  SCC  1\n",
      "92  ISIC_0068615  0.0  0.0  0.0  0.0  0.0  0.0   0.0  1.0  0.0  SCC  1\n",
      "93  ISIC_0030785  0.0  0.0  0.0  0.0  0.0  0.0   0.0  1.0  0.0  SCC  1\n",
      "94  ISIC_0065888  0.0  0.0  0.0  0.0  0.0  0.0   0.0  1.0  0.0  SCC  1\n",
      "95  ISIC_0025539  0.0  0.0  0.0  0.0  0.0  0.0   0.0  1.0  0.0  SCC  1\n",
      "\n",
      "[96 rows x 12 columns]\n",
      "None\n"
     ]
    }
   ],
   "source": [
    "s=get_data(100)\n",
    "print(s)"
   ]
  }
 ],
 "metadata": {
  "kernelspec": {
   "display_name": "skin_detection_1271",
   "language": "python",
   "name": "python3"
  },
  "language_info": {
   "codemirror_mode": {
    "name": "ipython",
    "version": 3
   },
   "file_extension": ".py",
   "mimetype": "text/x-python",
   "name": "python",
   "nbconvert_exporter": "python",
   "pygments_lexer": "ipython3",
   "version": "3.10.6"
  },
  "orig_nbformat": 4
 },
 "nbformat": 4,
 "nbformat_minor": 2
}
