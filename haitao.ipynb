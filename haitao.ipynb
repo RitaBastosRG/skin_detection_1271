{
 "cells": [
  {
   "cell_type": "code",
   "execution_count": 292,
   "metadata": {},
   "outputs": [],
   "source": [
    "import pandas as pd\n",
    "\n",
    "categories= ['MEL', 'NV', 'BCC', 'AK', 'BKL', 'DF', 'VASC', 'SCC']\n",
    "sizes =     [0.15,  0.25, 0.15,  0.10, 0.15,  0.05,  0.05,  0.10]\n",
    "\n",
    "# to load the raw data\n",
    "def load_raw_data():\n",
    "    # set data source\n",
    "    data_url = 'raw_data/ISIC_2019_Training_GroundTruth.csv'\n",
    "    data = pd.read_csv(data_url)\n",
    "    # Added a Cat column for conviniences\n",
    "    data['Cat']=''\n",
    "    \n",
    "    # Add Cat info of each row\n",
    "    for c in categories:\n",
    "        data.loc[data[c]>0, 'Cat']=c\n",
    "        \n",
    "    # Added a label/target column\n",
    "    data['y']=0\n",
    "    data['y']=(data.MEL+data.BCC+data.AK+data.SCC).astype(int)\n",
    "    \n",
    "    return data\n",
    "\n",
    "def get_data_number(data, number):\n",
    "    result = pd.DataFrame()\n",
    "    for c in categories:\n",
    "        result = pd.concat([result, data[data[c]>0].sample(number, random_state=42)], ignore_index=True)\n",
    "    return result\n",
    "\n",
    "def get_data_propotional(data, number):\n",
    "    result = pd.DataFrame()\n",
    "    numbers=np.multiply(sizes, number).astype(int)\n",
    "    for i in range(8):\n",
    "        result = pd.concat([result, data[data[categories[i]]>0].sample(numbers[i], random_state=42)], ignore_index=True)\n",
    "    return result\n",
    "\n",
    "def get_data(number=80):\n",
    "    \"\"\"\n",
    "    when number is less than 800, return the 8 categories evenly.\n",
    "    when the number is larger than 800 return the 8 categories as per the following percentages:\n",
    "    NV=25%, BKL=15%, DF=5%, UASC=5%, MEL=15%, BCC=15%, AK=10%, SCC=10% \n",
    "    if the number is negative, return the entire dataset\n",
    "    \"\"\"\n",
    "    data = load_raw_data()\n",
    "\n",
    "    if number<0:\n",
    "            result = data\n",
    "    else:\n",
    "        if (number<800):\n",
    "                result =get_data_number(data, number=number//8)\n",
    "        else:\n",
    "                result = get_data_propotional(data, number=number)\n",
    "    # randomize the data\n",
    "    result = result.sample(frac=1, random_state=42).reset_index(drop=True)\n",
    "    \n",
    "    return result"
   ]
  },
  {
   "cell_type": "code",
   "execution_count": 294,
   "metadata": {},
   "outputs": [
    {
     "ename": "ValueError",
     "evalue": "A negative number of rows requested. Please provide `n` >= 0.",
     "output_type": "error",
     "traceback": [
      "\u001b[0;31m---------------------------------------------------------------------------\u001b[0m",
      "\u001b[0;31mValueError\u001b[0m                                Traceback (most recent call last)",
      "Cell \u001b[0;32mIn[294], line 1\u001b[0m\n\u001b[0;32m----> 1\u001b[0m data \u001b[39m=\u001b[39m get_data(\u001b[39m-\u001b[39;49m\u001b[39m1\u001b[39;49m)\n\u001b[1;32m      2\u001b[0m data\n",
      "Cell \u001b[0;32mIn[292], line 49\u001b[0m, in \u001b[0;36mget_data\u001b[0;34m(number)\u001b[0m\n\u001b[1;32m     47\u001b[0m         result \u001b[39m=\u001b[39m data\n\u001b[1;32m     48\u001b[0m \u001b[39mif\u001b[39;00m (number\u001b[39m<\u001b[39m\u001b[39m800\u001b[39m):\n\u001b[0;32m---> 49\u001b[0m         result \u001b[39m=\u001b[39mget_data_number(data, number\u001b[39m=\u001b[39;49mnumber\u001b[39m/\u001b[39;49m\u001b[39m/\u001b[39;49m\u001b[39m8\u001b[39;49m)\n\u001b[1;32m     50\u001b[0m \u001b[39melse\u001b[39;00m:\n\u001b[1;32m     51\u001b[0m         result \u001b[39m=\u001b[39m get_data_propotional(data, number\u001b[39m=\u001b[39mnumber)\n",
      "Cell \u001b[0;32mIn[292], line 27\u001b[0m, in \u001b[0;36mget_data_number\u001b[0;34m(data, number)\u001b[0m\n\u001b[1;32m     25\u001b[0m result \u001b[39m=\u001b[39m pd\u001b[39m.\u001b[39mDataFrame()\n\u001b[1;32m     26\u001b[0m \u001b[39mfor\u001b[39;00m c \u001b[39min\u001b[39;00m categories:\n\u001b[0;32m---> 27\u001b[0m     result \u001b[39m=\u001b[39m pd\u001b[39m.\u001b[39mconcat([result, data[data[c]\u001b[39m>\u001b[39;49m\u001b[39m0\u001b[39;49m]\u001b[39m.\u001b[39;49msample(number, random_state\u001b[39m=\u001b[39;49m\u001b[39m42\u001b[39;49m)], ignore_index\u001b[39m=\u001b[39m\u001b[39mTrue\u001b[39;00m)\n\u001b[1;32m     28\u001b[0m \u001b[39mreturn\u001b[39;00m result\n",
      "File \u001b[0;32m~/.pyenv/versions/3.10.6/envs/skin_detection_1271/lib/python3.10/site-packages/pandas/core/generic.py:5850\u001b[0m, in \u001b[0;36mNDFrame.sample\u001b[0;34m(self, n, frac, replace, weights, random_state, axis, ignore_index)\u001b[0m\n\u001b[1;32m   5847\u001b[0m \u001b[39m# Process random_state argument\u001b[39;00m\n\u001b[1;32m   5848\u001b[0m rs \u001b[39m=\u001b[39m common\u001b[39m.\u001b[39mrandom_state(random_state)\n\u001b[0;32m-> 5850\u001b[0m size \u001b[39m=\u001b[39m sample\u001b[39m.\u001b[39;49mprocess_sampling_size(n, frac, replace)\n\u001b[1;32m   5851\u001b[0m \u001b[39mif\u001b[39;00m size \u001b[39mis\u001b[39;00m \u001b[39mNone\u001b[39;00m:\n\u001b[1;32m   5852\u001b[0m     \u001b[39massert\u001b[39;00m frac \u001b[39mis\u001b[39;00m \u001b[39mnot\u001b[39;00m \u001b[39mNone\u001b[39;00m\n",
      "File \u001b[0;32m~/.pyenv/versions/3.10.6/envs/skin_detection_1271/lib/python3.10/site-packages/pandas/core/sample.py:96\u001b[0m, in \u001b[0;36mprocess_sampling_size\u001b[0;34m(n, frac, replace)\u001b[0m\n\u001b[1;32m     94\u001b[0m \u001b[39melif\u001b[39;00m n \u001b[39mis\u001b[39;00m \u001b[39mnot\u001b[39;00m \u001b[39mNone\u001b[39;00m:\n\u001b[1;32m     95\u001b[0m     \u001b[39mif\u001b[39;00m n \u001b[39m<\u001b[39m \u001b[39m0\u001b[39m:\n\u001b[0;32m---> 96\u001b[0m         \u001b[39mraise\u001b[39;00m \u001b[39mValueError\u001b[39;00m(\n\u001b[1;32m     97\u001b[0m             \u001b[39m\"\u001b[39m\u001b[39mA negative number of rows requested. Please provide `n` >= 0.\u001b[39m\u001b[39m\"\u001b[39m\n\u001b[1;32m     98\u001b[0m         )\n\u001b[1;32m     99\u001b[0m     \u001b[39mif\u001b[39;00m n \u001b[39m%\u001b[39m \u001b[39m1\u001b[39m \u001b[39m!=\u001b[39m \u001b[39m0\u001b[39m:\n\u001b[1;32m    100\u001b[0m         \u001b[39mraise\u001b[39;00m \u001b[39mValueError\u001b[39;00m(\u001b[39m\"\u001b[39m\u001b[39mOnly integers accepted as `n` values\u001b[39m\u001b[39m\"\u001b[39m)\n",
      "\u001b[0;31mValueError\u001b[0m: A negative number of rows requested. Please provide `n` >= 0."
     ]
    }
   ],
   "source": [
    "data = get_data(-1)\n",
    "data"
   ]
  }
 ],
 "metadata": {
  "kernelspec": {
   "display_name": "skin_detection_1271",
   "language": "python",
   "name": "python3"
  },
  "language_info": {
   "codemirror_mode": {
    "name": "ipython",
    "version": 3
   },
   "file_extension": ".py",
   "mimetype": "text/x-python",
   "name": "python",
   "nbconvert_exporter": "python",
   "pygments_lexer": "ipython3",
   "version": "3.10.6"
  },
  "orig_nbformat": 4
 },
 "nbformat": 4,
 "nbformat_minor": 2
}
