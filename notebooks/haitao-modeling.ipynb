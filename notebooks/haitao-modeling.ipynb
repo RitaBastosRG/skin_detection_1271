{
 "cells": [
  {
   "attachments": {},
   "cell_type": "markdown",
   "metadata": {},
   "source": [
    "# Load the required packages"
   ]
  },
  {
   "cell_type": "code",
   "execution_count": 14,
   "metadata": {},
   "outputs": [],
   "source": [
    "import numpy as np\n",
    "import pandas as pd\n",
    "import matplotlib.pyplot as plt\n",
    "from PIL import Image\n",
    "from sklearn.model_selection import train_test_split   \n",
    "\n",
    "from tensorflow.keras import models, layers \n",
    "from tensorflow.keras.callbacks import EarlyStopping, ReduceLROnPlateau\n",
    "from tensorflow.keras import optimizers\n",
    "\n",
    "\n",
    "from sklearn.metrics import confusion_matrix, ConfusionMatrixDisplay"
   ]
  },
  {
   "attachments": {},
   "cell_type": "markdown",
   "metadata": {},
   "source": [
    "# Helper Functions"
   ]
  },
  {
   "cell_type": "code",
   "execution_count": 4,
   "metadata": {},
   "outputs": [],
   "source": [
    "def model_evaluate(model, X_test, y_test):\n",
    "    model = model\n",
    "    model.evaluate(X_test, y_test)\n",
    "    y_pred = model.predict(X_test)\n",
    "    y_pred_int = np.round(y_pred).astype(int)\n",
    "\n",
    "    cm = confusion_matrix(y_test, y_pred_int)\n",
    "    disp = ConfusionMatrixDisplay(confusion_matrix=cm)\n",
    "    disp.plot()\n",
    "    plt.show()"
   ]
  },
  {
   "cell_type": "code",
   "execution_count": 3,
   "metadata": {},
   "outputs": [],
   "source": [
    "def plot_history(history, title='', axs=None, exp_name=\"\"):\n",
    "    if axs is not None:\n",
    "        ax1, ax2 = axs\n",
    "    else:\n",
    "        f, (ax1, ax2) = plt.subplots(1, 2, figsize=(12, 4))\n",
    "    \n",
    "    if len(exp_name) > 0 and exp_name[0] != '_':\n",
    "        exp_name = '_' + exp_name\n",
    "    ax1.plot(history.history['recall'], label='train' + exp_name)\n",
    "    ax1.plot(history.history['val_recall'], label='val' + exp_name)\n",
    "    #ax1.set_ylim(0., 2.2)\n",
    "    ax1.set_title('recall')\n",
    "    ax1.legend()\n",
    "\n",
    "    ax2.plot(history.history['accuracy'], label='train accuracy'  + exp_name)\n",
    "    ax2.plot(history.history['val_accuracy'], label='val accuracy'  + exp_name)\n",
    "    #ax2.set_ylim(0.25, 1.)\n",
    "    ax2.set_title('Accuracy')\n",
    "    ax2.legend()\n",
    "    return (ax1, ax2)"
   ]
  },
  {
   "cell_type": "code",
   "execution_count": 24,
   "metadata": {},
   "outputs": [],
   "source": [
    "def get_image(item):\n",
    "    # file_name = f\"../processed_data/{item['Cat']}/{item['image']}.jpg\"\n",
    "    file_name = f\"../processed_data_reduce_NV/{item['Cat']}/{item['image']}.jpg\"\n",
    "    image = Image.open(file_name)\n",
    "    width, height=image.size\n",
    "    assert (width==400 and height==400), f\"image: {file_name}, width: {width}, height: {height}\"\n",
    "    # plt.imshow(image)\n",
    "    # plt.show()\n",
    "    return np.asarray(image, dtype=np.float32)\n"
   ]
  },
  {
   "attachments": {},
   "cell_type": "markdown",
   "metadata": {},
   "source": [
    "# Load Processed Data"
   ]
  },
  {
   "attachments": {},
   "cell_type": "markdown",
   "metadata": {},
   "source": [
    "### Load meta data"
   ]
  },
  {
   "cell_type": "code",
   "execution_count": 6,
   "metadata": {},
   "outputs": [
    {
     "data": {
      "text/html": [
       "<div>\n",
       "<style scoped>\n",
       "    .dataframe tbody tr th:only-of-type {\n",
       "        vertical-align: middle;\n",
       "    }\n",
       "\n",
       "    .dataframe tbody tr th {\n",
       "        vertical-align: top;\n",
       "    }\n",
       "\n",
       "    .dataframe thead th {\n",
       "        text-align: right;\n",
       "    }\n",
       "</style>\n",
       "<table border=\"1\" class=\"dataframe\">\n",
       "  <thead>\n",
       "    <tr style=\"text-align: right;\">\n",
       "      <th></th>\n",
       "      <th>image</th>\n",
       "      <th>MEL</th>\n",
       "      <th>NV</th>\n",
       "      <th>BCC</th>\n",
       "      <th>AK</th>\n",
       "      <th>BKL</th>\n",
       "      <th>DF</th>\n",
       "      <th>VASC</th>\n",
       "      <th>SCC</th>\n",
       "      <th>UNK</th>\n",
       "      <th>Cat</th>\n",
       "      <th>y</th>\n",
       "    </tr>\n",
       "  </thead>\n",
       "  <tbody>\n",
       "    <tr>\n",
       "      <th>0</th>\n",
       "      <td>ISIC_0000001</td>\n",
       "      <td>0.0</td>\n",
       "      <td>1.0</td>\n",
       "      <td>0.0</td>\n",
       "      <td>0.0</td>\n",
       "      <td>0.0</td>\n",
       "      <td>0.0</td>\n",
       "      <td>0.0</td>\n",
       "      <td>0.0</td>\n",
       "      <td>0.0</td>\n",
       "      <td>NV</td>\n",
       "      <td>0</td>\n",
       "    </tr>\n",
       "    <tr>\n",
       "      <th>1</th>\n",
       "      <td>ISIC_0000002</td>\n",
       "      <td>1.0</td>\n",
       "      <td>0.0</td>\n",
       "      <td>0.0</td>\n",
       "      <td>0.0</td>\n",
       "      <td>0.0</td>\n",
       "      <td>0.0</td>\n",
       "      <td>0.0</td>\n",
       "      <td>0.0</td>\n",
       "      <td>0.0</td>\n",
       "      <td>MEL</td>\n",
       "      <td>1</td>\n",
       "    </tr>\n",
       "    <tr>\n",
       "      <th>2</th>\n",
       "      <td>ISIC_0000003</td>\n",
       "      <td>0.0</td>\n",
       "      <td>1.0</td>\n",
       "      <td>0.0</td>\n",
       "      <td>0.0</td>\n",
       "      <td>0.0</td>\n",
       "      <td>0.0</td>\n",
       "      <td>0.0</td>\n",
       "      <td>0.0</td>\n",
       "      <td>0.0</td>\n",
       "      <td>NV</td>\n",
       "      <td>0</td>\n",
       "    </tr>\n",
       "    <tr>\n",
       "      <th>3</th>\n",
       "      <td>ISIC_0000004</td>\n",
       "      <td>1.0</td>\n",
       "      <td>0.0</td>\n",
       "      <td>0.0</td>\n",
       "      <td>0.0</td>\n",
       "      <td>0.0</td>\n",
       "      <td>0.0</td>\n",
       "      <td>0.0</td>\n",
       "      <td>0.0</td>\n",
       "      <td>0.0</td>\n",
       "      <td>MEL</td>\n",
       "      <td>1</td>\n",
       "    </tr>\n",
       "    <tr>\n",
       "      <th>4</th>\n",
       "      <td>ISIC_0000007</td>\n",
       "      <td>0.0</td>\n",
       "      <td>1.0</td>\n",
       "      <td>0.0</td>\n",
       "      <td>0.0</td>\n",
       "      <td>0.0</td>\n",
       "      <td>0.0</td>\n",
       "      <td>0.0</td>\n",
       "      <td>0.0</td>\n",
       "      <td>0.0</td>\n",
       "      <td>NV</td>\n",
       "      <td>0</td>\n",
       "    </tr>\n",
       "  </tbody>\n",
       "</table>\n",
       "</div>"
      ],
      "text/plain": [
       "          image  MEL   NV  BCC   AK  BKL   DF  VASC  SCC  UNK  Cat  y\n",
       "0  ISIC_0000001  0.0  1.0  0.0  0.0  0.0  0.0   0.0  0.0  0.0   NV  0\n",
       "1  ISIC_0000002  1.0  0.0  0.0  0.0  0.0  0.0   0.0  0.0  0.0  MEL  1\n",
       "2  ISIC_0000003  0.0  1.0  0.0  0.0  0.0  0.0   0.0  0.0  0.0   NV  0\n",
       "3  ISIC_0000004  1.0  0.0  0.0  0.0  0.0  0.0   0.0  0.0  0.0  MEL  1\n",
       "4  ISIC_0000007  0.0  1.0  0.0  0.0  0.0  0.0   0.0  0.0  0.0   NV  0"
      ]
     },
     "execution_count": 6,
     "metadata": {},
     "output_type": "execute_result"
    }
   ],
   "source": [
    "# data = pd.read_csv('../processed_data/ISIC_2019_Training_GroundTruth_Processed_Balanced.csv')\n",
    "data = pd.read_csv('../processed_data_reduce_NV/ISIC_2019_Training_GroundTruth_Processed_reduce_NV.csv')\n",
    "data.head()"
   ]
  },
  {
   "cell_type": "code",
   "execution_count": 7,
   "metadata": {},
   "outputs": [
    {
     "name": "stdout",
     "output_type": "stream",
     "text": [
      "the shape of the processed data setis (18331, 12)\n"
     ]
    },
    {
     "data": {
      "image/png": "[encoded data removed]",
      "text/plain": [
       "<Figure size 640x480 with 1 Axes>"
      ]
     },
     "metadata": {},
     "output_type": "display_data"
    }
   ],
   "source": [
    "print(f'the shape of the processed data setis {data.shape}')\n",
    "data.sum()[1:9].plot.bar();"
   ]
  },
  {
   "attachments": {},
   "cell_type": "markdown",
   "metadata": {},
   "source": [
    "### Load image data"
   ]
  },
  {
   "cell_type": "code",
   "execution_count": 25,
   "metadata": {},
   "outputs": [
    {
     "name": "stdout",
     "output_type": "stream",
     "text": [
      "(700, 400, 400, 3) (300, 400, 400, 3) (700,) (300,)\n"
     ]
    }
   ],
   "source": [
    "n_samples=1000; \n",
    "sample = data.sample(n_samples, random_state=42)\n",
    "# sample = data #load the full dataset\n",
    "\n",
    "X = sample.apply(get_image, axis=1)\n",
    "\n",
    "X = np.stack(X)\n",
    "y = sample.y\n",
    "\n",
    "X_train, X_test, y_train, y_test = train_test_split(X, y, test_size=0.3)\n",
    "print(X_train.shape, X_test.shape, y_train.shape, y_test.shape)"
   ]
  },
  {
   "attachments": {},
   "cell_type": "markdown",
   "metadata": {},
   "source": [
    "### Load image data with arugmented data"
   ]
  },
  {
   "cell_type": "code",
   "execution_count": null,
   "metadata": {},
   "outputs": [],
   "source": [
    "def get_argumented_images(samples):\n",
    "    result = []\n",
    "    for i in range(samples.shape[0]):\n",
    "        item = samples.iloc[i]\n",
    "        if item['Cat'] == 'AK' or item['Cat'] == 'SCC':\n",
    "            file_name = f\"../processed_data_reduce_NV/{item['Cat']}/{item['image']}.jpg\"\n",
    "            image = Image.open(file_name)\n",
    "            for i in range(3):\n",
    "                image = image.rotate(90)\n",
    "                result.append(np.asarray(image, dtype=np.float32))\n",
    "            image = image.transpose(Image.FLIP_LEFT_RIGHT)\n",
    "            result.append(np.asarray(image, dtype=np.float32))       \n",
    "    return result\n",
    "\n",
    "n_samples=1000; \n",
    "samples = data.sample(n_samples, random_state=42)\n",
    "samples_train, samples_test= train_test_split(samples)\n",
    "print(samples_train.shape, samples_test.shape)\n",
    "\n",
    "X_train = samples_train.apply(get_image, axis=1)\n",
    "X_train = np.stack(X_train)\n",
    "y_train = samples_train.y\n",
    "\n",
    "arugmented_train_samples=np.stack(get_argumented_images(samples_train))\n",
    "\n",
    "n_added = arugmented_train_samples.shape[0]\n",
    "X_train = np.vstack((X_train, arugmented_train_samples))\n",
    "y_train = pd.Series(list(y_train) + [1] * n_added)\n",
    "\n",
    "# # sample = data #load the full dataset\n",
    "print(arugmented_train_samples.shape,n_added)\n",
    "\n",
    "X_test = samples_test.apply(get_image, axis=1)\n",
    "X_test = np.stack(X_test)\n",
    "y_test = samples_test.y\n",
    "print( X_train.shape, y_train.shape, X_test.shape, y_test.shape)"
   ]
  },
  {
   "attachments": {},
   "cell_type": "markdown",
   "metadata": {},
   "source": [
    "# Modeling"
   ]
  },
  {
   "attachments": {},
   "cell_type": "markdown",
   "metadata": {},
   "source": [
    "## CNN Model"
   ]
  },
  {
   "attachments": {},
   "cell_type": "markdown",
   "metadata": {},
   "source": [
    "### build CNN Model"
   ]
  },
  {
   "cell_type": "code",
   "execution_count": 39,
   "metadata": {},
   "outputs": [],
   "source": [
    "def initialize_CNN_model():\n",
    "    \n",
    "    model = models.Sequential()\n",
    "\n",
    "    model.add(layers.Conv2D(16, (3, 3), input_shape = (400,400,3), activation = 'relu', padding='same'))\n",
    "    model.add(layers.MaxPooling2D(pool_size=(2, 2)))\n",
    "\n",
    "    model.add(layers.Conv2D(32, (3, 3), activation = 'relu', padding='same' ))\n",
    "    model.add(layers.MaxPooling2D(pool_size=(2, 2)))\n",
    "    \n",
    "    model.add(layers.Conv2D(64, (3, 3), activation = 'relu', padding='same'))\n",
    "    model.add(layers.MaxPooling2D(pool_size=(2, 2)))\n",
    "    \n",
    "    model.add(layers.Conv2D(64, (2, 2), activation = 'relu', padding='same'))\n",
    "    model.add(layers.MaxPooling2D(pool_size=(2, 2)))\n",
    "\n",
    "    model.add(layers.Flatten())\n",
    "    model.add(layers.Dense(units = 100, activation = 'relu'))\n",
    "    model.add(layers.Dense(units = 1, activation = 'sigmoid'))\n",
    "\n",
    "    model.compile(loss='binary_crossentropy',\n",
    "                 optimizer='adam',\n",
    "                 metrics =['accuracy', 'Recall'])   \n",
    "\n",
    "    return model"
   ]
  },
  {
   "attachments": {},
   "cell_type": "markdown",
   "metadata": {},
   "source": [
    "### Train CNN Model"
   ]
  },
  {
   "cell_type": "code",
   "execution_count": 41,
   "metadata": {},
   "outputs": [
    {
     "name": "stdout",
     "output_type": "stream",
     "text": [
      "Epoch 1/10\n",
      "31/31 [==============================] - 31s 950ms/step - loss: 9.9257 - accuracy: 0.5399 - recall: 0.5157 - val_loss: 0.6940 - val_accuracy: 0.5118 - val_recall: 0.0741\n",
      "Epoch 2/10\n",
      "31/31 [==============================] - 29s 950ms/step - loss: 0.6536 - accuracy: 0.5930 - recall: 0.5984 - val_loss: 0.6585 - val_accuracy: 0.5924 - val_recall: 0.3333\n",
      "Epoch 3/10\n",
      "31/31 [==============================] - 30s 976ms/step - loss: 0.6233 - accuracy: 0.6196 - recall: 0.5945 - val_loss: 0.6853 - val_accuracy: 0.5308 - val_recall: 0.6944\n",
      "Epoch 4/10\n",
      "31/31 [==============================] - 29s 949ms/step - loss: 0.5872 - accuracy: 0.6564 - recall: 0.6811 - val_loss: 0.7135 - val_accuracy: 0.5308 - val_recall: 0.5648\n",
      "Epoch 5/10\n",
      "31/31 [==============================] - 29s 925ms/step - loss: 0.5418 - accuracy: 0.7526 - recall: 0.7717 - val_loss: 0.7340 - val_accuracy: 0.5403 - val_recall: 0.3704\n",
      "Epoch 6/10\n",
      "31/31 [==============================] - 29s 926ms/step - loss: 0.5469 - accuracy: 0.7382 - recall: 0.7323 - val_loss: 0.7877 - val_accuracy: 0.5545 - val_recall: 0.4630\n",
      "Epoch 7/10\n",
      "31/31 [==============================] - 29s 933ms/step - loss: 0.4969 - accuracy: 0.7403 - recall: 0.6850 - val_loss: 0.8018 - val_accuracy: 0.5498 - val_recall: 0.3056\n",
      "Epoch 7: early stopping\n"
     ]
    }
   ],
   "source": [
    "model_cnn = initialize_CNN_model()\n",
    "\n",
    "es = EarlyStopping(patience=5, verbose=1)\n",
    "\n",
    "history = model_cnn.fit(\n",
    "    X_train, y_train,\n",
    "    validation_split = 0.3,\n",
    "    batch_size = 16,\n",
    "    epochs=10,\n",
    "    callbacks=[es],\n",
    "    verbose = 1)"
   ]
  },
  {
   "attachments": {},
   "cell_type": "markdown",
   "metadata": {},
   "source": [
    "## VGG16 Transfer Learning"
   ]
  },
  {
   "attachments": {},
   "cell_type": "markdown",
   "metadata": {},
   "source": [
    "### Build VGG Model"
   ]
  },
  {
   "cell_type": "code",
   "execution_count": 42,
   "metadata": {},
   "outputs": [],
   "source": [
    "from tensorflow.keras.applications.vgg16 import preprocess_input\n",
    "from tensorflow.keras.applications.vgg16 import VGG16\n",
    "\n",
    "def load_vgg_model():\n",
    "    model = VGG16(weights=\"imagenet\", include_top=False, input_shape=X_train[0].shape)\n",
    "    return model\n",
    "\n",
    "def set_nontrainable_layers(model):\n",
    "    # Set the first layers to be untrainable\n",
    "    model.trainable = False\n",
    "\n",
    "    return model\n",
    "\n",
    "def add_last_layers(model):\n",
    "    '''Take a pre-trained model, set its parameters as non-trainable, and add additional trainable layers on top'''\n",
    "\n",
    "    base_model = set_nontrainable_layers(model)\n",
    "    flatten_layer = layers.Flatten()\n",
    "    dense_layer = layers.Dense(200, activation='relu')\n",
    "    prediction_layer = layers.Dense(1, activation='sigmoid')\n",
    "\n",
    "    model = models.Sequential([\n",
    "        base_model,\n",
    "        flatten_layer,\n",
    "        dense_layer,\n",
    "        prediction_layer\n",
    "    ])\n",
    "\n",
    "    return model\n",
    "\n",
    "def build_vgg_model():\n",
    "\n",
    "    model = load_vgg_model()\n",
    "    model = add_last_layers(model)\n",
    "\n",
    "    opt = optimizers.Adam(learning_rate=0.001)\n",
    "    model.compile(loss='binary_crossentropy',\n",
    "                  optimizer=opt,\n",
    "                  metrics=['accuracy', 'Recall'])\n",
    "    return model\n"
   ]
  },
  {
   "attachments": {},
   "cell_type": "markdown",
   "metadata": {},
   "source": [
    "### Data Preprocessing"
   ]
  },
  {
   "cell_type": "code",
   "execution_count": 43,
   "metadata": {},
   "outputs": [],
   "source": [
    "X_train = preprocess_input(X_train)\n",
    "X_test = preprocess_input(X_test)"
   ]
  },
  {
   "attachments": {},
   "cell_type": "markdown",
   "metadata": {},
   "source": [
    "### Train VGG Model"
   ]
  },
  {
   "cell_type": "code",
   "execution_count": 44,
   "metadata": {},
   "outputs": [
    {
     "name": "stdout",
     "output_type": "stream",
     "text": [
      "Epoch 1/10\n",
      "16/16 [==============================] - ETA: 0s - loss: 9.6443 - accuracy: 0.5501 - recall: 0.6142 WARNING:tensorflow:Early stopping conditioned on metric `f1` which is not available. Available metrics are: loss,accuracy,recall,val_loss,val_accuracy,val_recall\n",
      "16/16 [==============================] - 391s 25s/step - loss: 9.6443 - accuracy: 0.5501 - recall: 0.6142 - val_loss: 2.7449 - val_accuracy: 0.6398 - val_recall: 0.6019\n",
      "Epoch 2/10\n",
      "16/16 [==============================] - ETA: 0s - loss: 0.6978 - accuracy: 0.8507 - recall: 0.8425 WARNING:tensorflow:Early stopping conditioned on metric `f1` which is not available. Available metrics are: loss,accuracy,recall,val_loss,val_accuracy,val_recall\n",
      "16/16 [==============================] - 388s 25s/step - loss: 0.6978 - accuracy: 0.8507 - recall: 0.8425 - val_loss: 1.4483 - val_accuracy: 0.6493 - val_recall: 0.8796\n",
      "Epoch 3/10\n",
      "16/16 [==============================] - ETA: 0s - loss: 0.2088 - accuracy: 0.9039 - recall: 0.8937 WARNING:tensorflow:Early stopping conditioned on metric `f1` which is not available. Available metrics are: loss,accuracy,recall,val_loss,val_accuracy,val_recall\n",
      "16/16 [==============================] - 367s 23s/step - loss: 0.2088 - accuracy: 0.9039 - recall: 0.8937 - val_loss: 1.4879 - val_accuracy: 0.6445 - val_recall: 0.9074\n",
      "Epoch 4/10\n",
      "16/16 [==============================] - ETA: 0s - loss: 0.0744 - accuracy: 0.9775 - recall: 0.9921 WARNING:tensorflow:Early stopping conditioned on metric `f1` which is not available. Available metrics are: loss,accuracy,recall,val_loss,val_accuracy,val_recall\n",
      "16/16 [==============================] - 364s 23s/step - loss: 0.0744 - accuracy: 0.9775 - recall: 0.9921 - val_loss: 1.0161 - val_accuracy: 0.6825 - val_recall: 0.6667\n",
      "Epoch 5/10\n",
      "16/16 [==============================] - ETA: 0s - loss: 0.0253 - accuracy: 0.9898 - recall: 0.9843 WARNING:tensorflow:Early stopping conditioned on metric `f1` which is not available. Available metrics are: loss,accuracy,recall,val_loss,val_accuracy,val_recall\n",
      "16/16 [==============================] - 373s 24s/step - loss: 0.0253 - accuracy: 0.9898 - recall: 0.9843 - val_loss: 1.5341 - val_accuracy: 0.6872 - val_recall: 0.8148\n",
      "Epoch 6/10\n",
      "16/16 [==============================] - ETA: 0s - loss: 0.0125 - accuracy: 0.9959 - recall: 0.9921 WARNING:tensorflow:Early stopping conditioned on metric `f1` which is not available. Available metrics are: loss,accuracy,recall,val_loss,val_accuracy,val_recall\n",
      "16/16 [==============================] - 354s 23s/step - loss: 0.0125 - accuracy: 0.9959 - recall: 0.9921 - val_loss: 1.3315 - val_accuracy: 0.6730 - val_recall: 0.7130\n",
      "Epoch 7/10\n",
      "16/16 [==============================] - ETA: 0s - loss: 0.0086 - accuracy: 0.9959 - recall: 0.9921 WARNING:tensorflow:Early stopping conditioned on metric `f1` which is not available. Available metrics are: loss,accuracy,recall,val_loss,val_accuracy,val_recall\n",
      "16/16 [==============================] - 365s 23s/step - loss: 0.0086 - accuracy: 0.9959 - recall: 0.9921 - val_loss: 1.3474 - val_accuracy: 0.6825 - val_recall: 0.7222\n",
      "Epoch 8/10\n",
      "16/16 [==============================] - ETA: 0s - loss: 0.0071 - accuracy: 0.9959 - recall: 0.9921 WARNING:tensorflow:Early stopping conditioned on metric `f1` which is not available. Available metrics are: loss,accuracy,recall,val_loss,val_accuracy,val_recall\n",
      "16/16 [==============================] - 365s 23s/step - loss: 0.0071 - accuracy: 0.9959 - recall: 0.9921 - val_loss: 1.3751 - val_accuracy: 0.6730 - val_recall: 0.7222\n",
      "Epoch 9/10\n",
      "16/16 [==============================] - ETA: 0s - loss: 0.0064 - accuracy: 0.9959 - recall: 0.9921 WARNING:tensorflow:Early stopping conditioned on metric `f1` which is not available. Available metrics are: loss,accuracy,recall,val_loss,val_accuracy,val_recall\n",
      "16/16 [==============================] - 380s 24s/step - loss: 0.0064 - accuracy: 0.9959 - recall: 0.9921 - val_loss: 1.4007 - val_accuracy: 0.6635 - val_recall: 0.7222\n",
      "Epoch 10/10\n",
      "16/16 [==============================] - ETA: 0s - loss: 0.0057 - accuracy: 0.9959 - recall: 0.9921 WARNING:tensorflow:Early stopping conditioned on metric `f1` which is not available. Available metrics are: loss,accuracy,recall,val_loss,val_accuracy,val_recall\n",
      "16/16 [==============================] - 363s 23s/step - loss: 0.0057 - accuracy: 0.9959 - recall: 0.9921 - val_loss: 1.4208 - val_accuracy: 0.6682 - val_recall: 0.7222\n"
     ]
    }
   ],
   "source": [
    "model_vgg = build_vgg_model()\n",
    "\n",
    "es = EarlyStopping(monitor = 'val_accuracy',\n",
    "                   mode = 'max',\n",
    "                   patience = 5,\n",
    "                   verbose = 1,\n",
    "                   restore_best_weights = True)\n",
    "# \n",
    "history = model_vgg.fit(X_train, y_train,\n",
    "                    validation_split=0.3,\n",
    "                    epochs=10,\n",
    "                    batch_size=32,\n",
    "                    callbacks=[es])"
   ]
  },
  {
   "attachments": {},
   "cell_type": "markdown",
   "metadata": {},
   "source": [
    "## ResNET"
   ]
  },
  {
   "cell_type": "code",
   "execution_count": 45,
   "metadata": {},
   "outputs": [],
   "source": [
    "from tensorflow.keras.applications import ResNet50\n",
    "from tensorflow.keras.applications.resnet50 import preprocess_input\n",
    "\n",
    "# Load the pre-trained ResNet50 model without the top (fully connected) layers\n",
    "def load_ResNet50_model():\n",
    "    model = ResNet50(weights='imagenet', include_top=False, input_shape=X_train[0].shape)\n",
    "    return model\n",
    "def set_nontrainable_layers(model):\n",
    "    # Set the first layers to be untrainable\n",
    "    model.trainable = False\n",
    "\n",
    "    return model\n",
    "def add_last_layers(model):\n",
    "    '''Take a pre-trained model, set its parameters as non-trainable, and add additional trainable layers on top'''\n",
    "\n",
    "    base_model = set_nontrainable_layers(model)\n",
    "    flatten_layer = layers.Flatten()\n",
    "    dense_layer = layers.Dense(200, activation='relu')\n",
    "    prediction_layer = layers.Dense(1, activation='sigmoid')\n",
    "\n",
    "    model = models.Sequential([\n",
    "        base_model,\n",
    "        flatten_layer,\n",
    "        dense_layer,\n",
    "        prediction_layer\n",
    "    ])\n",
    "\n",
    "    return model"
   ]
  },
  {
   "cell_type": "code",
   "execution_count": 46,
   "metadata": {},
   "outputs": [],
   "source": [
    "def build_ResNet50_model():\n",
    "\n",
    "    model = load_ResNet50_model()\n",
    "    model = add_last_layers(model)\n",
    "\n",
    "    opt = optimizers.Adam(learning_rate=0.001)\n",
    "    model.compile(loss='binary_crossentropy',\n",
    "                  optimizer=opt,\n",
    "                  metrics=['accuracy', 'Recall'])\n",
    "    return model\n"
   ]
  },
  {
   "cell_type": "code",
   "execution_count": 47,
   "metadata": {},
   "outputs": [],
   "source": [
    "X_train = preprocess_input(X_train)\n",
    "X_test = preprocess_input(X_test)"
   ]
  },
  {
   "cell_type": "code",
   "execution_count": 48,
   "metadata": {},
   "outputs": [
    {
     "name": "stdout",
     "output_type": "stream",
     "text": [
      "Epoch 1/10\n",
      "16/16 [==============================] - 175s 11s/step - loss: 36.6502 - accuracy: 0.5174 - recall: 0.5630 - val_loss: 4.4305 - val_accuracy: 0.6114 - val_recall: 0.9537\n",
      "Epoch 2/10\n",
      "16/16 [==============================] - 157s 10s/step - loss: 1.2054 - accuracy: 0.7178 - recall: 0.7205 - val_loss: 0.6568 - val_accuracy: 0.5450 - val_recall: 1.0000\n",
      "Epoch 3/10\n",
      "16/16 [==============================] - 159s 10s/step - loss: 0.5949 - accuracy: 0.6360 - recall: 0.9528 - val_loss: 0.7236 - val_accuracy: 0.6351 - val_recall: 0.6944\n",
      "Epoch 4/10\n",
      "16/16 [==============================] - 161s 10s/step - loss: 0.5497 - accuracy: 0.6728 - recall: 0.9449 - val_loss: 0.6421 - val_accuracy: 0.5687 - val_recall: 1.0000\n",
      "Epoch 5/10\n",
      "16/16 [==============================] - 162s 10s/step - loss: 0.5190 - accuracy: 0.6667 - recall: 0.9961 - val_loss: 0.6063 - val_accuracy: 0.6303 - val_recall: 0.9722\n",
      "Epoch 6/10\n",
      "16/16 [==============================] - 159s 10s/step - loss: 0.4848 - accuracy: 0.7280 - recall: 0.9370 - val_loss: 0.6199 - val_accuracy: 0.5972 - val_recall: 1.0000\n",
      "Epoch 7/10\n",
      "16/16 [==============================] - 162s 10s/step - loss: 0.4705 - accuracy: 0.7321 - recall: 1.0000 - val_loss: 0.5881 - val_accuracy: 0.6256 - val_recall: 0.9259\n",
      "Epoch 8/10\n",
      "16/16 [==============================] - 161s 10s/step - loss: 0.4249 - accuracy: 0.7853 - recall: 0.9409 - val_loss: 0.9391 - val_accuracy: 0.6445 - val_recall: 0.8519\n",
      "Epoch 9/10\n",
      "16/16 [==============================] - 2157s 143s/step - loss: 0.3629 - accuracy: 0.8098 - recall: 1.0000 - val_loss: 0.6209 - val_accuracy: 0.6351 - val_recall: 0.9259\n",
      "Epoch 10/10\n",
      "16/16 [==============================] - 2259s 149s/step - loss: 0.3144 - accuracy: 0.8139 - recall: 0.9921 - val_loss: 0.7738 - val_accuracy: 0.6303 - val_recall: 0.8981\n"
     ]
    }
   ],
   "source": [
    "ResNet50_model = build_ResNet50_model()\n",
    "\n",
    "es = EarlyStopping(monitor = 'val_accuracy',\n",
    "                   mode = 'max',\n",
    "                   patience = 5,\n",
    "                   verbose = 1,\n",
    "                   restore_best_weights = True)\n",
    "history = ResNet50_model.fit(X_train, y_train,\n",
    "                    validation_split=0.3,\n",
    "                    epochs=10,\n",
    "                    batch_size=32,\n",
    "                    callbacks=[es])"
   ]
  },
  {
   "attachments": {},
   "cell_type": "markdown",
   "metadata": {},
   "source": [
    "## InceptionResNetV2"
   ]
  },
  {
   "cell_type": "code",
   "execution_count": 9,
   "metadata": {},
   "outputs": [
    {
     "name": "stdout",
     "output_type": "stream",
     "text": [
      "Model: \"sequential\"\n",
      "_________________________________________________________________\n",
      " Layer (type)                Output Shape              Param #   \n",
      "=================================================================\n",
      " inception_resnet_v2 (Functi  (None, 11, 11, 1536)     54336736  \n",
      " onal)                                                           \n",
      "                                                                 \n",
      " flatten (Flatten)           (None, 185856)            0         \n",
      "                                                                 \n",
      " dense (Dense)               (None, 200)               37171400  \n",
      "                                                                 \n",
      " dense_1 (Dense)             (None, 1)                 201       \n",
      "                                                                 \n",
      "=================================================================\n",
      "Total params: 91,508,337\n",
      "Trainable params: 37,171,601\n",
      "Non-trainable params: 54,336,736\n",
      "_________________________________________________________________\n"
     ]
    }
   ],
   "source": [
    "from tensorflow.keras.applications import InceptionResNetV2\n",
    "from tensorflow.keras.applications.inception_resnet_v2 import preprocess_input\n",
    "\n",
    "# Load the pre-trained ResNet50 model without the top (fully connected) layers\n",
    "def load_InceptionResNetV2_model():\n",
    "    model = InceptionResNetV2(weights='imagenet', include_top=False, input_shape=X_train[0].shape)\n",
    "    return model\n",
    "\n",
    "def set_nontrainable_layers(model):\n",
    "    # Set the first layers to be untrainable\n",
    "    model.trainable = False\n",
    "\n",
    "    return model\n",
    "def add_last_layers(model):\n",
    "    '''Take a pre-trained model, set its parameters as non-trainable, and add additional trainable layers on top'''\n",
    "\n",
    "    base_model = set_nontrainable_layers(model)\n",
    "    flatten_layer = layers.Flatten()\n",
    "    dense_layer = layers.Dense(200, activation='relu')\n",
    "    prediction_layer = layers.Dense(1, activation='sigmoid')\n",
    "\n",
    "    augmentation = models.Sequential([\n",
    "        layers.RandomFlip(\"horizontal\"),\n",
    "        layers.RandomZoom(0.1),\n",
    "        # layers.RandomTranslation(0.2, 0.2),\n",
    "        layers.RandomRotation(0.1)\n",
    "    ])\n",
    "\n",
    "    model = models.Sequential([\n",
    "        layers.Input(input_shape=X_train[0].shape),\n",
    "        augmentation,\n",
    "        base_model,\n",
    "        flatten_layer,\n",
    "        dense_layer,\n",
    "        prediction_layer\n",
    "    ])\n",
    "\n",
    "    return model\n",
    "def build_InceptionResNetV2_model():\n",
    "    model = load_InceptionResNetV2_model()\n",
    "    model = add_last_layers(model)\n",
    "\n",
    "    opt = optimizers.Adam(learning_rate=0.001)\n",
    "    model.compile(loss='binary_crossentropy',\n",
    "                  optimizer=opt,\n",
    "                  metrics=['accuracy', 'Recall'])\n",
    "    return model\n",
    "\n"
   ]
  },
  {
   "cell_type": "code",
   "execution_count": 10,
   "metadata": {},
   "outputs": [],
   "source": [
    "X_train = preprocess_input(X_train)\n",
    "X_test = preprocess_input(X_test)"
   ]
  },
  {
   "cell_type": "code",
   "execution_count": 11,
   "metadata": {},
   "outputs": [
    {
     "name": "stdout",
     "output_type": "stream",
     "text": [
      "Epoch 1/50\n",
      "31/31 [==============================] - 570s 18s/step - loss: 8.2817 - accuracy: 0.6966 - recall: 0.7885 - val_loss: 2.2070 - val_accuracy: 0.7173 - val_recall: 0.7189\n",
      "Epoch 2/50\n",
      "31/31 [==============================] - 523s 17s/step - loss: 0.9865 - accuracy: 0.8539 - recall: 0.8994 - val_loss: 2.8625 - val_accuracy: 0.6817 - val_recall: 0.6762\n",
      "Epoch 3/50\n",
      "31/31 [==============================] - 558s 18s/step - loss: 0.4717 - accuracy: 0.9081 - recall: 0.9334 - val_loss: 2.5231 - val_accuracy: 0.6865 - val_recall: 0.6370\n",
      "Epoch 4/50\n",
      "31/31 [==============================] - 612s 20s/step - loss: 0.1402 - accuracy: 0.9642 - recall: 0.9734 - val_loss: 2.0847 - val_accuracy: 0.7553 - val_recall: 0.8363\n",
      "Epoch 5/50\n",
      "31/31 [==============================] - 703s 23s/step - loss: 0.0777 - accuracy: 0.9785 - recall: 0.9822 - val_loss: 2.4353 - val_accuracy: 0.6675 - val_recall: 0.6050\n",
      "Epoch 6/50\n",
      "31/31 [==============================] - 755s 25s/step - loss: 0.1222 - accuracy: 0.9683 - recall: 0.9734 - val_loss: 3.6961 - val_accuracy: 0.7625 - val_recall: 0.9751\n",
      "Epoch 7/50\n",
      "31/31 [==============================] - 604s 20s/step - loss: 0.0460 - accuracy: 0.9877 - recall: 0.9941 - val_loss: 2.4737 - val_accuracy: 0.7648 - val_recall: 0.9039\n",
      "Epoch 8/50\n",
      "31/31 [==============================] - 530s 17s/step - loss: 0.0063 - accuracy: 0.9959 - recall: 0.9985 - val_loss: 2.1646 - val_accuracy: 0.7530 - val_recall: 0.8719\n",
      "Epoch 9/50\n",
      "31/31 [==============================] - 541s 18s/step - loss: 0.0020 - accuracy: 0.9990 - recall: 1.0000 - val_loss: 2.1418 - val_accuracy: 0.7696 - val_recall: 0.8719\n",
      "Epoch 10/50\n",
      "31/31 [==============================] - 513s 17s/step - loss: 2.4841e-04 - accuracy: 1.0000 - recall: 1.0000 - val_loss: 2.2860 - val_accuracy: 0.7720 - val_recall: 0.8932\n",
      "Epoch 11/50\n",
      "31/31 [==============================] - 510s 17s/step - loss: 1.5539e-04 - accuracy: 1.0000 - recall: 1.0000 - val_loss: 2.2442 - val_accuracy: 0.7743 - val_recall: 0.8897\n",
      "Epoch 12/50\n",
      "31/31 [==============================] - 505s 16s/step - loss: 1.1869e-04 - accuracy: 1.0000 - recall: 1.0000 - val_loss: 2.2413 - val_accuracy: 0.7743 - val_recall: 0.8897\n",
      "Epoch 13/50\n",
      "27/31 [=========================>....] - ETA: 48s - loss: 1.1024e-04 - accuracy: 1.0000 - recall: 1.0000"
     ]
    },
    {
     "ename": "KeyboardInterrupt",
     "evalue": "",
     "output_type": "error",
     "traceback": [
      "\u001b[0;31m---------------------------------------------------------------------------\u001b[0m",
      "\u001b[0;31mKeyboardInterrupt\u001b[0m                         Traceback (most recent call last)",
      "Cell \u001b[0;32mIn[11], line 7\u001b[0m\n\u001b[1;32m      1\u001b[0m es \u001b[39m=\u001b[39m EarlyStopping(monitor \u001b[39m=\u001b[39m \u001b[39m'\u001b[39m\u001b[39mval_accuracy\u001b[39m\u001b[39m'\u001b[39m,\n\u001b[1;32m      2\u001b[0m                    mode \u001b[39m=\u001b[39m \u001b[39m'\u001b[39m\u001b[39mmax\u001b[39m\u001b[39m'\u001b[39m,\n\u001b[1;32m      3\u001b[0m                    patience \u001b[39m=\u001b[39m \u001b[39m10\u001b[39m,\n\u001b[1;32m      4\u001b[0m                    verbose \u001b[39m=\u001b[39m \u001b[39m1\u001b[39m,\n\u001b[1;32m      5\u001b[0m                    restore_best_weights \u001b[39m=\u001b[39m \u001b[39mTrue\u001b[39;00m)\n\u001b[0;32m----> 7\u001b[0m history \u001b[39m=\u001b[39m model_InceptionResNetV2\u001b[39m.\u001b[39;49mfit(X_train, y_train,\n\u001b[1;32m      8\u001b[0m                     validation_split\u001b[39m=\u001b[39;49m\u001b[39m0.3\u001b[39;49m,\n\u001b[1;32m      9\u001b[0m                     epochs\u001b[39m=\u001b[39;49m\u001b[39m50\u001b[39;49m,\n\u001b[1;32m     10\u001b[0m                     batch_size\u001b[39m=\u001b[39;49m\u001b[39m32\u001b[39;49m,\n\u001b[1;32m     11\u001b[0m                     callbacks\u001b[39m=\u001b[39;49m[es])\n",
      "File \u001b[0;32m~/.pyenv/versions/3.10.6/envs/skin_detection_1271/lib/python3.10/site-packages/keras/utils/traceback_utils.py:65\u001b[0m, in \u001b[0;36mfilter_traceback.<locals>.error_handler\u001b[0;34m(*args, **kwargs)\u001b[0m\n\u001b[1;32m     63\u001b[0m filtered_tb \u001b[39m=\u001b[39m \u001b[39mNone\u001b[39;00m\n\u001b[1;32m     64\u001b[0m \u001b[39mtry\u001b[39;00m:\n\u001b[0;32m---> 65\u001b[0m     \u001b[39mreturn\u001b[39;00m fn(\u001b[39m*\u001b[39;49margs, \u001b[39m*\u001b[39;49m\u001b[39m*\u001b[39;49mkwargs)\n\u001b[1;32m     66\u001b[0m \u001b[39mexcept\u001b[39;00m \u001b[39mException\u001b[39;00m \u001b[39mas\u001b[39;00m e:\n\u001b[1;32m     67\u001b[0m     filtered_tb \u001b[39m=\u001b[39m _process_traceback_frames(e\u001b[39m.\u001b[39m__traceback__)\n",
      "File \u001b[0;32m~/.pyenv/versions/3.10.6/envs/skin_detection_1271/lib/python3.10/site-packages/keras/engine/training.py:1685\u001b[0m, in \u001b[0;36mModel.fit\u001b[0;34m(self, x, y, batch_size, epochs, verbose, callbacks, validation_split, validation_data, shuffle, class_weight, sample_weight, initial_epoch, steps_per_epoch, validation_steps, validation_batch_size, validation_freq, max_queue_size, workers, use_multiprocessing)\u001b[0m\n\u001b[1;32m   1677\u001b[0m \u001b[39mwith\u001b[39;00m tf\u001b[39m.\u001b[39mprofiler\u001b[39m.\u001b[39mexperimental\u001b[39m.\u001b[39mTrace(\n\u001b[1;32m   1678\u001b[0m     \u001b[39m\"\u001b[39m\u001b[39mtrain\u001b[39m\u001b[39m\"\u001b[39m,\n\u001b[1;32m   1679\u001b[0m     epoch_num\u001b[39m=\u001b[39mepoch,\n\u001b[0;32m   (...)\u001b[0m\n\u001b[1;32m   1682\u001b[0m     _r\u001b[39m=\u001b[39m\u001b[39m1\u001b[39m,\n\u001b[1;32m   1683\u001b[0m ):\n\u001b[1;32m   1684\u001b[0m     callbacks\u001b[39m.\u001b[39mon_train_batch_begin(step)\n\u001b[0;32m-> 1685\u001b[0m     tmp_logs \u001b[39m=\u001b[39m \u001b[39mself\u001b[39;49m\u001b[39m.\u001b[39;49mtrain_function(iterator)\n\u001b[1;32m   1686\u001b[0m     \u001b[39mif\u001b[39;00m data_handler\u001b[39m.\u001b[39mshould_sync:\n\u001b[1;32m   1687\u001b[0m         context\u001b[39m.\u001b[39masync_wait()\n",
      "File \u001b[0;32m~/.pyenv/versions/3.10.6/envs/skin_detection_1271/lib/python3.10/site-packages/tensorflow/python/util/traceback_utils.py:150\u001b[0m, in \u001b[0;36mfilter_traceback.<locals>.error_handler\u001b[0;34m(*args, **kwargs)\u001b[0m\n\u001b[1;32m    148\u001b[0m filtered_tb \u001b[39m=\u001b[39m \u001b[39mNone\u001b[39;00m\n\u001b[1;32m    149\u001b[0m \u001b[39mtry\u001b[39;00m:\n\u001b[0;32m--> 150\u001b[0m   \u001b[39mreturn\u001b[39;00m fn(\u001b[39m*\u001b[39;49margs, \u001b[39m*\u001b[39;49m\u001b[39m*\u001b[39;49mkwargs)\n\u001b[1;32m    151\u001b[0m \u001b[39mexcept\u001b[39;00m \u001b[39mException\u001b[39;00m \u001b[39mas\u001b[39;00m e:\n\u001b[1;32m    152\u001b[0m   filtered_tb \u001b[39m=\u001b[39m _process_traceback_frames(e\u001b[39m.\u001b[39m__traceback__)\n",
      "File \u001b[0;32m~/.pyenv/versions/3.10.6/envs/skin_detection_1271/lib/python3.10/site-packages/tensorflow/python/eager/polymorphic_function/polymorphic_function.py:894\u001b[0m, in \u001b[0;36mFunction.__call__\u001b[0;34m(self, *args, **kwds)\u001b[0m\n\u001b[1;32m    891\u001b[0m compiler \u001b[39m=\u001b[39m \u001b[39m\"\u001b[39m\u001b[39mxla\u001b[39m\u001b[39m\"\u001b[39m \u001b[39mif\u001b[39;00m \u001b[39mself\u001b[39m\u001b[39m.\u001b[39m_jit_compile \u001b[39melse\u001b[39;00m \u001b[39m\"\u001b[39m\u001b[39mnonXla\u001b[39m\u001b[39m\"\u001b[39m\n\u001b[1;32m    893\u001b[0m \u001b[39mwith\u001b[39;00m OptionalXlaContext(\u001b[39mself\u001b[39m\u001b[39m.\u001b[39m_jit_compile):\n\u001b[0;32m--> 894\u001b[0m   result \u001b[39m=\u001b[39m \u001b[39mself\u001b[39;49m\u001b[39m.\u001b[39;49m_call(\u001b[39m*\u001b[39;49margs, \u001b[39m*\u001b[39;49m\u001b[39m*\u001b[39;49mkwds)\n\u001b[1;32m    896\u001b[0m new_tracing_count \u001b[39m=\u001b[39m \u001b[39mself\u001b[39m\u001b[39m.\u001b[39mexperimental_get_tracing_count()\n\u001b[1;32m    897\u001b[0m without_tracing \u001b[39m=\u001b[39m (tracing_count \u001b[39m==\u001b[39m new_tracing_count)\n",
      "File \u001b[0;32m~/.pyenv/versions/3.10.6/envs/skin_detection_1271/lib/python3.10/site-packages/tensorflow/python/eager/polymorphic_function/polymorphic_function.py:926\u001b[0m, in \u001b[0;36mFunction._call\u001b[0;34m(self, *args, **kwds)\u001b[0m\n\u001b[1;32m    923\u001b[0m   \u001b[39mself\u001b[39m\u001b[39m.\u001b[39m_lock\u001b[39m.\u001b[39mrelease()\n\u001b[1;32m    924\u001b[0m   \u001b[39m# In this case we have created variables on the first call, so we run the\u001b[39;00m\n\u001b[1;32m    925\u001b[0m   \u001b[39m# defunned version which is guaranteed to never create variables.\u001b[39;00m\n\u001b[0;32m--> 926\u001b[0m   \u001b[39mreturn\u001b[39;00m \u001b[39mself\u001b[39;49m\u001b[39m.\u001b[39;49m_no_variable_creation_fn(\u001b[39m*\u001b[39;49margs, \u001b[39m*\u001b[39;49m\u001b[39m*\u001b[39;49mkwds)  \u001b[39m# pylint: disable=not-callable\u001b[39;00m\n\u001b[1;32m    927\u001b[0m \u001b[39melif\u001b[39;00m \u001b[39mself\u001b[39m\u001b[39m.\u001b[39m_variable_creation_fn \u001b[39mis\u001b[39;00m \u001b[39mnot\u001b[39;00m \u001b[39mNone\u001b[39;00m:\n\u001b[1;32m    928\u001b[0m   \u001b[39m# Release the lock early so that multiple threads can perform the call\u001b[39;00m\n\u001b[1;32m    929\u001b[0m   \u001b[39m# in parallel.\u001b[39;00m\n\u001b[1;32m    930\u001b[0m   \u001b[39mself\u001b[39m\u001b[39m.\u001b[39m_lock\u001b[39m.\u001b[39mrelease()\n",
      "File \u001b[0;32m~/.pyenv/versions/3.10.6/envs/skin_detection_1271/lib/python3.10/site-packages/tensorflow/python/eager/polymorphic_function/tracing_compiler.py:143\u001b[0m, in \u001b[0;36mTracingCompiler.__call__\u001b[0;34m(self, *args, **kwargs)\u001b[0m\n\u001b[1;32m    140\u001b[0m \u001b[39mwith\u001b[39;00m \u001b[39mself\u001b[39m\u001b[39m.\u001b[39m_lock:\n\u001b[1;32m    141\u001b[0m   (concrete_function,\n\u001b[1;32m    142\u001b[0m    filtered_flat_args) \u001b[39m=\u001b[39m \u001b[39mself\u001b[39m\u001b[39m.\u001b[39m_maybe_define_function(args, kwargs)\n\u001b[0;32m--> 143\u001b[0m \u001b[39mreturn\u001b[39;00m concrete_function\u001b[39m.\u001b[39;49m_call_flat(\n\u001b[1;32m    144\u001b[0m     filtered_flat_args, captured_inputs\u001b[39m=\u001b[39;49mconcrete_function\u001b[39m.\u001b[39;49mcaptured_inputs)\n",
      "File \u001b[0;32m~/.pyenv/versions/3.10.6/envs/skin_detection_1271/lib/python3.10/site-packages/tensorflow/python/eager/polymorphic_function/monomorphic_function.py:1757\u001b[0m, in \u001b[0;36mConcreteFunction._call_flat\u001b[0;34m(self, args, captured_inputs, cancellation_manager)\u001b[0m\n\u001b[1;32m   1753\u001b[0m possible_gradient_type \u001b[39m=\u001b[39m gradients_util\u001b[39m.\u001b[39mPossibleTapeGradientTypes(args)\n\u001b[1;32m   1754\u001b[0m \u001b[39mif\u001b[39;00m (possible_gradient_type \u001b[39m==\u001b[39m gradients_util\u001b[39m.\u001b[39mPOSSIBLE_GRADIENT_TYPES_NONE\n\u001b[1;32m   1755\u001b[0m     \u001b[39mand\u001b[39;00m executing_eagerly):\n\u001b[1;32m   1756\u001b[0m   \u001b[39m# No tape is watching; skip to running the function.\u001b[39;00m\n\u001b[0;32m-> 1757\u001b[0m   \u001b[39mreturn\u001b[39;00m \u001b[39mself\u001b[39m\u001b[39m.\u001b[39m_build_call_outputs(\u001b[39mself\u001b[39;49m\u001b[39m.\u001b[39;49m_inference_function\u001b[39m.\u001b[39;49mcall(\n\u001b[1;32m   1758\u001b[0m       ctx, args, cancellation_manager\u001b[39m=\u001b[39;49mcancellation_manager))\n\u001b[1;32m   1759\u001b[0m forward_backward \u001b[39m=\u001b[39m \u001b[39mself\u001b[39m\u001b[39m.\u001b[39m_select_forward_and_backward_functions(\n\u001b[1;32m   1760\u001b[0m     args,\n\u001b[1;32m   1761\u001b[0m     possible_gradient_type,\n\u001b[1;32m   1762\u001b[0m     executing_eagerly)\n\u001b[1;32m   1763\u001b[0m forward_function, args_with_tangents \u001b[39m=\u001b[39m forward_backward\u001b[39m.\u001b[39mforward()\n",
      "File \u001b[0;32m~/.pyenv/versions/3.10.6/envs/skin_detection_1271/lib/python3.10/site-packages/tensorflow/python/eager/polymorphic_function/monomorphic_function.py:381\u001b[0m, in \u001b[0;36m_EagerDefinedFunction.call\u001b[0;34m(self, ctx, args, cancellation_manager)\u001b[0m\n\u001b[1;32m    379\u001b[0m \u001b[39mwith\u001b[39;00m _InterpolateFunctionError(\u001b[39mself\u001b[39m):\n\u001b[1;32m    380\u001b[0m   \u001b[39mif\u001b[39;00m cancellation_manager \u001b[39mis\u001b[39;00m \u001b[39mNone\u001b[39;00m:\n\u001b[0;32m--> 381\u001b[0m     outputs \u001b[39m=\u001b[39m execute\u001b[39m.\u001b[39;49mexecute(\n\u001b[1;32m    382\u001b[0m         \u001b[39mstr\u001b[39;49m(\u001b[39mself\u001b[39;49m\u001b[39m.\u001b[39;49msignature\u001b[39m.\u001b[39;49mname),\n\u001b[1;32m    383\u001b[0m         num_outputs\u001b[39m=\u001b[39;49m\u001b[39mself\u001b[39;49m\u001b[39m.\u001b[39;49m_num_outputs,\n\u001b[1;32m    384\u001b[0m         inputs\u001b[39m=\u001b[39;49margs,\n\u001b[1;32m    385\u001b[0m         attrs\u001b[39m=\u001b[39;49mattrs,\n\u001b[1;32m    386\u001b[0m         ctx\u001b[39m=\u001b[39;49mctx)\n\u001b[1;32m    387\u001b[0m   \u001b[39melse\u001b[39;00m:\n\u001b[1;32m    388\u001b[0m     outputs \u001b[39m=\u001b[39m execute\u001b[39m.\u001b[39mexecute_with_cancellation(\n\u001b[1;32m    389\u001b[0m         \u001b[39mstr\u001b[39m(\u001b[39mself\u001b[39m\u001b[39m.\u001b[39msignature\u001b[39m.\u001b[39mname),\n\u001b[1;32m    390\u001b[0m         num_outputs\u001b[39m=\u001b[39m\u001b[39mself\u001b[39m\u001b[39m.\u001b[39m_num_outputs,\n\u001b[0;32m   (...)\u001b[0m\n\u001b[1;32m    393\u001b[0m         ctx\u001b[39m=\u001b[39mctx,\n\u001b[1;32m    394\u001b[0m         cancellation_manager\u001b[39m=\u001b[39mcancellation_manager)\n",
      "File \u001b[0;32m~/.pyenv/versions/3.10.6/envs/skin_detection_1271/lib/python3.10/site-packages/tensorflow/python/eager/execute.py:52\u001b[0m, in \u001b[0;36mquick_execute\u001b[0;34m(op_name, num_outputs, inputs, attrs, ctx, name)\u001b[0m\n\u001b[1;32m     50\u001b[0m \u001b[39mtry\u001b[39;00m:\n\u001b[1;32m     51\u001b[0m   ctx\u001b[39m.\u001b[39mensure_initialized()\n\u001b[0;32m---> 52\u001b[0m   tensors \u001b[39m=\u001b[39m pywrap_tfe\u001b[39m.\u001b[39;49mTFE_Py_Execute(ctx\u001b[39m.\u001b[39;49m_handle, device_name, op_name,\n\u001b[1;32m     53\u001b[0m                                       inputs, attrs, num_outputs)\n\u001b[1;32m     54\u001b[0m \u001b[39mexcept\u001b[39;00m core\u001b[39m.\u001b[39m_NotOkStatusException \u001b[39mas\u001b[39;00m e:\n\u001b[1;32m     55\u001b[0m   \u001b[39mif\u001b[39;00m name \u001b[39mis\u001b[39;00m \u001b[39mnot\u001b[39;00m \u001b[39mNone\u001b[39;00m:\n",
      "\u001b[0;31mKeyboardInterrupt\u001b[0m: "
     ]
    }
   ],
   "source": [
    "model_InceptionResNetV2 = build_InceptionResNetV2_model()\n",
    "lr = ReduceLROnPlateau(monitor=\"val_loss\",\n",
    "                       factor=0.1,\n",
    "                       patience=2,\n",
    "                       verbose=1,\n",
    "                       min_lr=0)\n",
    "\n",
    "es = EarlyStopping(monitor = 'val_accuracy',\n",
    "                   mode = 'max',\n",
    "                   patience = 10,\n",
    "                   verbose = 1,\n",
    "                   restore_best_weights = True)\n",
    "\n",
    "history = model_InceptionResNetV2.fit(X_train, y_train,\n",
    "                    validation_split=0.3,\n",
    "                    epochs=50,\n",
    "                    batch_size=16,\n",
    "                    callbacks=[es, lr])"
   ]
  },
  {
   "attachments": {},
   "cell_type": "markdown",
   "metadata": {},
   "source": [
    "## Evaluate Model"
   ]
  },
  {
   "cell_type": "code",
   "execution_count": 20,
   "metadata": {},
   "outputs": [
    {
     "data": {
      "text/plain": [
       "(<Axes: title={'center': 'recall'}>, <Axes: title={'center': 'Accuracy'}>)"
      ]
     },
     "execution_count": 20,
     "metadata": {},
     "output_type": "execute_result"
    },
    {
     "data": {
      "image/png": "[encoded data removed]",
      "text/plain": [
       "<Figure size 1200x400 with 2 Axes>"
      ]
     },
     "metadata": {},
     "output_type": "display_data"
    }
   ],
   "source": [
    "# model_evaluate(ResNet50_model, X_test, y_test)\n",
    "plot_history(history)"
   ]
  },
  {
   "attachments": {},
   "cell_type": "markdown",
   "metadata": {},
   "source": [
    "# Save the trained model"
   ]
  },
  {
   "cell_type": "code",
   "execution_count": null,
   "metadata": {},
   "outputs": [],
   "source": [
    "# Serialize the trained model\n",
    "model_name= 'model_dummy'\n",
    "import pickle\n",
    "file_name_pickle = f'../{model_name}.pickle'\n",
    "with open(file_name_pickle, 'wb') as file:\n",
    "    pickle.dump(model, file)"
   ]
  }
 ],
 "metadata": {
  "kernelspec": {
   "display_name": "skin_detection_1271",
   "language": "python",
   "name": "python3"
  },
  "language_info": {
   "codemirror_mode": {
    "name": "ipython",
    "version": 3
   },
   "file_extension": ".py",
   "mimetype": "text/x-python",
   "name": "python",
   "nbconvert_exporter": "python",
   "pygments_lexer": "ipython3",
   "version": "3.10.6"
  },
  "orig_nbformat": 4
 },
 "nbformat": 4,
 "nbformat_minor": 2
}
