{
 "cells": [
  {
   "attachments": {},
   "cell_type": "markdown",
   "metadata": {},
   "source": [
    "# Load the required packages"
   ]
  },
  {
   "cell_type": "code",
   "execution_count": 21,
   "metadata": {},
   "outputs": [],
   "source": [
    "import numpy as np\n",
    "import pandas as pd\n",
    "import matplotlib.pyplot as plt\n",
    "from PIL import Image\n",
    "from sklearn.model_selection import train_test_split   \n",
    "\n",
    "from tensorflow.keras import models, layers \n",
    "from tensorflow.keras.callbacks import EarlyStopping\n",
    "from tensorflow.keras import optimizers\n",
    "\n",
    "from tensorflow.keras.applications.vgg16 import preprocess_input\n",
    "from tensorflow.keras.applications.vgg16 import VGG16\n",
    "\n",
    "from sklearn.metrics import confusion_matrix, ConfusionMatrixDisplay"
   ]
  },
  {
   "attachments": {},
   "cell_type": "markdown",
   "metadata": {},
   "source": [
    "# Helper Functions"
   ]
  },
  {
   "cell_type": "code",
   "execution_count": 22,
   "metadata": {},
   "outputs": [],
   "source": [
    "def model_evaluate(model, X_test, y_test):\n",
    "    model = model\n",
    "    model.evaluate(X_test, y_test)\n",
    "    y_pred = model.predict(X_test)\n",
    "    y_pred_int = np.round(y_pred).astype(int)\n",
    "\n",
    "    cm = confusion_matrix(y_test, y_pred_int)\n",
    "    disp = ConfusionMatrixDisplay(confusion_matrix=cm)\n",
    "    disp.plot()\n",
    "    plt.show()"
   ]
  },
  {
   "cell_type": "code",
   "execution_count": 23,
   "metadata": {},
   "outputs": [],
   "source": [
    "def plot_history(history, title='', axs=None, exp_name=\"\"):\n",
    "    if axs is not None:\n",
    "        ax1, ax2 = axs\n",
    "    else:\n",
    "        f, (ax1, ax2, ax3) = plt.subplots(1, 3, figsize=(12, 4))\n",
    "    \n",
    "    if len(exp_name) > 0 and exp_name[0] != '_':\n",
    "        exp_name = '_' + exp_name\n",
    "    ax1.plot(history.history['recall'], label='train' + exp_name)\n",
    "    ax1.plot(history.history['val_recall'], label='val' + exp_name)\n",
    "    #ax1.set_ylim(0., 2.2)\n",
    "    ax1.set_title('recall')\n",
    "    ax1.legend()\n",
    "\n",
    "    ax2.plot(history.history['accuracy'], label='train accuracy'  + exp_name)\n",
    "    ax2.plot(history.history['val_accuracy'], label='val accuracy'  + exp_name)\n",
    "    ax2.set_title('Accuracy')\n",
    "    ax2.legend()\n",
    "    \n",
    "    ax3.plot(history.history['loss'], label='train loss'  + exp_name)\n",
    "    ax3.plot(history.history['val_loss'], label='val loss'  + exp_name)\n",
    "    ax3.set_title('Loss')\n",
    "    ax3.legend()\n",
    "    \n",
    "    return (ax1, ax2, ax3)"
   ]
  },
  {
   "cell_type": "code",
   "execution_count": 24,
   "metadata": {},
   "outputs": [],
   "source": [
    "def get_image(item):\n",
    "    file_name = f\"../processed_data/{item['Cat']}/{item['image']}.jpg\"\n",
    "    image = Image.open(file_name)\n",
    "    width, height=image.size\n",
    "    assert (width==400 and height==400), f\"image: {file_name}, width: {width}, height: {height}\"\n",
    "    return np.asarray(image, dtype=np.float32)\n"
   ]
  },
  {
   "attachments": {},
   "cell_type": "markdown",
   "metadata": {},
   "source": [
    "# Load Processed Data"
   ]
  },
  {
   "attachments": {},
   "cell_type": "markdown",
   "metadata": {},
   "source": [
    "### Load meta data"
   ]
  },
  {
   "cell_type": "code",
   "execution_count": 25,
   "metadata": {},
   "outputs": [
    {
     "data": {
      "text/html": [
       "<div>\n",
       "<style scoped>\n",
       "    .dataframe tbody tr th:only-of-type {\n",
       "        vertical-align: middle;\n",
       "    }\n",
       "\n",
       "    .dataframe tbody tr th {\n",
       "        vertical-align: top;\n",
       "    }\n",
       "\n",
       "    .dataframe thead th {\n",
       "        text-align: right;\n",
       "    }\n",
       "</style>\n",
       "<table border=\"1\" class=\"dataframe\">\n",
       "  <thead>\n",
       "    <tr style=\"text-align: right;\">\n",
       "      <th></th>\n",
       "      <th>image</th>\n",
       "      <th>MEL</th>\n",
       "      <th>NV</th>\n",
       "      <th>BCC</th>\n",
       "      <th>AK</th>\n",
       "      <th>BKL</th>\n",
       "      <th>DF</th>\n",
       "      <th>VASC</th>\n",
       "      <th>SCC</th>\n",
       "      <th>UNK</th>\n",
       "      <th>Cat</th>\n",
       "      <th>y</th>\n",
       "    </tr>\n",
       "  </thead>\n",
       "  <tbody>\n",
       "    <tr>\n",
       "      <th>0</th>\n",
       "      <td>ISIC_0000001</td>\n",
       "      <td>0.0</td>\n",
       "      <td>1.0</td>\n",
       "      <td>0.0</td>\n",
       "      <td>0.0</td>\n",
       "      <td>0.0</td>\n",
       "      <td>0.0</td>\n",
       "      <td>0.0</td>\n",
       "      <td>0.0</td>\n",
       "      <td>0.0</td>\n",
       "      <td>NV</td>\n",
       "      <td>0</td>\n",
       "    </tr>\n",
       "    <tr>\n",
       "      <th>1</th>\n",
       "      <td>ISIC_0000002</td>\n",
       "      <td>1.0</td>\n",
       "      <td>0.0</td>\n",
       "      <td>0.0</td>\n",
       "      <td>0.0</td>\n",
       "      <td>0.0</td>\n",
       "      <td>0.0</td>\n",
       "      <td>0.0</td>\n",
       "      <td>0.0</td>\n",
       "      <td>0.0</td>\n",
       "      <td>MEL</td>\n",
       "      <td>1</td>\n",
       "    </tr>\n",
       "    <tr>\n",
       "      <th>2</th>\n",
       "      <td>ISIC_0000003</td>\n",
       "      <td>0.0</td>\n",
       "      <td>1.0</td>\n",
       "      <td>0.0</td>\n",
       "      <td>0.0</td>\n",
       "      <td>0.0</td>\n",
       "      <td>0.0</td>\n",
       "      <td>0.0</td>\n",
       "      <td>0.0</td>\n",
       "      <td>0.0</td>\n",
       "      <td>NV</td>\n",
       "      <td>0</td>\n",
       "    </tr>\n",
       "    <tr>\n",
       "      <th>3</th>\n",
       "      <td>ISIC_0000004</td>\n",
       "      <td>1.0</td>\n",
       "      <td>0.0</td>\n",
       "      <td>0.0</td>\n",
       "      <td>0.0</td>\n",
       "      <td>0.0</td>\n",
       "      <td>0.0</td>\n",
       "      <td>0.0</td>\n",
       "      <td>0.0</td>\n",
       "      <td>0.0</td>\n",
       "      <td>MEL</td>\n",
       "      <td>1</td>\n",
       "    </tr>\n",
       "    <tr>\n",
       "      <th>4</th>\n",
       "      <td>ISIC_0000007</td>\n",
       "      <td>0.0</td>\n",
       "      <td>1.0</td>\n",
       "      <td>0.0</td>\n",
       "      <td>0.0</td>\n",
       "      <td>0.0</td>\n",
       "      <td>0.0</td>\n",
       "      <td>0.0</td>\n",
       "      <td>0.0</td>\n",
       "      <td>0.0</td>\n",
       "      <td>NV</td>\n",
       "      <td>0</td>\n",
       "    </tr>\n",
       "  </tbody>\n",
       "</table>\n",
       "</div>"
      ],
      "text/plain": [
       "          image  MEL   NV  BCC   AK  BKL   DF  VASC  SCC  UNK  Cat  y\n",
       "0  ISIC_0000001  0.0  1.0  0.0  0.0  0.0  0.0   0.0  0.0  0.0   NV  0\n",
       "1  ISIC_0000002  1.0  0.0  0.0  0.0  0.0  0.0   0.0  0.0  0.0  MEL  1\n",
       "2  ISIC_0000003  0.0  1.0  0.0  0.0  0.0  0.0   0.0  0.0  0.0   NV  0\n",
       "3  ISIC_0000004  1.0  0.0  0.0  0.0  0.0  0.0   0.0  0.0  0.0  MEL  1\n",
       "4  ISIC_0000007  0.0  1.0  0.0  0.0  0.0  0.0   0.0  0.0  0.0   NV  0"
      ]
     },
     "execution_count": 25,
     "metadata": {},
     "output_type": "execute_result"
    }
   ],
   "source": [
    "data = pd.read_csv('../processed_data/ISIC_2019_Training_GroundTruth_Processed.csv')\n",
    "data.head()"
   ]
  },
  {
   "cell_type": "code",
   "execution_count": 26,
   "metadata": {},
   "outputs": [
    {
     "name": "stdout",
     "output_type": "stream",
     "text": [
      "the shape of the processed data setis (18331, 12)\n"
     ]
    },
    {
     "data": {
      "image/png": "[encoded data removed]",
      "text/plain": [
       "<Figure size 640x480 with 1 Axes>"
      ]
     },
     "metadata": {},
     "output_type": "display_data"
    }
   ],
   "source": [
    "print(f'the shape of the processed data setis {data.shape}')\n",
    "data.sum()[1:9].plot.bar();"
   ]
  },
  {
   "attachments": {},
   "cell_type": "markdown",
   "metadata": {},
   "source": [
    "### Load image data with data argumentation"
   ]
  },
  {
   "cell_type": "code",
   "execution_count": null,
   "metadata": {},
   "outputs": [],
   "source": [
    "\n",
    "n_samples=5000; \n",
    "samples = data.sample(n_samples, random_state=42)\n",
    "samples_train, samples_test= train_test_split(samples)\n",
    "print(samples_train.shape, samples_test.shape)\n",
    "\n",
    "X_train = samples_train.apply(get_image, axis=1)\n",
    "X_train = np.stack(X_train)\n",
    "y_train = samples_train.y\n",
    "\n",
    "arugmented_train_samples=np.stack(get_argumented_images(samples_train))\n",
    "\n",
    "n_added = arugmented_train_samples.shape[0]\n",
    "X_train = np.vstack((X_train, arugmented_train_samples))\n",
    "y_train = pd.Series(list(y_train) + [1] * n_added)\n",
    "\n",
    "# # sample = data #load the full dataset\n",
    "print(arugmented_train_samples.shape,n_added)\n",
    "\n",
    "X_test = samples_test.apply(get_image, axis=1)\n",
    "X_test = np.stack(X_test)\n",
    "y_test = samples_test.y\n",
    "print( X_train.shape, y_train.shape, X_test.shape, y_test.shape)"
   ]
  },
  {
   "attachments": {},
   "cell_type": "markdown",
   "metadata": {},
   "source": [
    "### Load image data withOUT data argumentation"
   ]
  },
  {
   "cell_type": "code",
   "execution_count": 27,
   "metadata": {},
   "outputs": [
    {
     "name": "stdout",
     "output_type": "stream",
     "text": [
      "(70, 400, 400, 3) (30, 400, 400, 3) (70,) (30,)\n"
     ]
    }
   ],
   "source": [
    "n_samples=100; \n",
    "sample = data.sample(n_samples, random_state=42)\n",
    "# sample = data #load the full dataset\n",
    "\n",
    "X = sample.apply(get_image, axis=1)\n",
    "X = np.stack(X)\n",
    "y = sample.y\n",
    "\n",
    "X_train, X_test, y_train, y_test = train_test_split(X, y, test_size=0.3)\n",
    "print(X_train.shape, X_test.shape, y_train.shape, y_test.shape)"
   ]
  },
  {
   "attachments": {},
   "cell_type": "markdown",
   "metadata": {},
   "source": [
    "# Modeling"
   ]
  },
  {
   "attachments": {},
   "cell_type": "markdown",
   "metadata": {},
   "source": [
    "## CNN Model"
   ]
  },
  {
   "attachments": {},
   "cell_type": "markdown",
   "metadata": {},
   "source": [
    "### build CNN Model"
   ]
  },
  {
   "cell_type": "code",
   "execution_count": 28,
   "metadata": {},
   "outputs": [
    {
     "name": "stdout",
     "output_type": "stream",
     "text": [
      "Model: \"sequential_1\"\n",
      "_________________________________________________________________\n",
      " Layer (type)                Output Shape              Param #   \n",
      "=================================================================\n",
      " conv2d_4 (Conv2D)           (None, 400, 400, 16)      448       \n",
      "                                                                 \n",
      " max_pooling2d_4 (MaxPooling  (None, 200, 200, 16)     0         \n",
      " 2D)                                                             \n",
      "                                                                 \n",
      " conv2d_5 (Conv2D)           (None, 200, 200, 32)      4640      \n",
      "                                                                 \n",
      " max_pooling2d_5 (MaxPooling  (None, 100, 100, 32)     0         \n",
      " 2D)                                                             \n",
      "                                                                 \n",
      " conv2d_6 (Conv2D)           (None, 100, 100, 64)      18496     \n",
      "                                                                 \n",
      " max_pooling2d_6 (MaxPooling  (None, 50, 50, 64)       0         \n",
      " 2D)                                                             \n",
      "                                                                 \n",
      " conv2d_7 (Conv2D)           (None, 50, 50, 64)        16448     \n",
      "                                                                 \n",
      " max_pooling2d_7 (MaxPooling  (None, 25, 25, 64)       0         \n",
      " 2D)                                                             \n",
      "                                                                 \n",
      " flatten_1 (Flatten)         (None, 40000)             0         \n",
      "                                                                 \n",
      " dense_2 (Dense)             (None, 100)               4000100   \n",
      "                                                                 \n",
      " dense_3 (Dense)             (None, 1)                 101       \n",
      "                                                                 \n",
      "=================================================================\n",
      "Total params: 4,040,233\n",
      "Trainable params: 4,040,233\n",
      "Non-trainable params: 0\n",
      "_________________________________________________________________\n"
     ]
    }
   ],
   "source": [
    "def initialize_CNN_model():\n",
    "    \n",
    "    model = models.Sequential()\n",
    "\n",
    "    model.add(layers.Conv2D(16, (3, 3), input_shape = (400,400,3), activation = 'relu', padding='same'))\n",
    "    model.add(layers.MaxPooling2D(pool_size=(2, 2)))\n",
    "\n",
    "    model.add(layers.Conv2D(32, (3, 3), activation = 'relu', padding='same' ))\n",
    "    model.add(layers.MaxPooling2D(pool_size=(2, 2)))\n",
    "    \n",
    "    model.add(layers.Conv2D(64, (3, 3), activation = 'relu', padding='same'))\n",
    "    model.add(layers.MaxPooling2D(pool_size=(2, 2)))\n",
    "    \n",
    "    model.add(layers.Conv2D(64, (2, 2), activation = 'relu', padding='same'))\n",
    "    model.add(layers.MaxPooling2D(pool_size=(2, 2)))\n",
    "\n",
    "    model.add(layers.Flatten())\n",
    "    model.add(layers.Dense(units = 100, activation = 'relu'))\n",
    "    model.add(layers.Dense(units = 1, activation = 'sigmoid'))\n",
    "\n",
    "    model.compile(loss='binary_crossentropy',\n",
    "                 optimizer='adam',\n",
    "                 metrics =['accuracy', 'Recall'])   \n",
    "\n",
    "    return model\n",
    "\n",
    "model_cnn = initialize_CNN_model()\n",
    "model_cnn.summary()"
   ]
  },
  {
   "attachments": {},
   "cell_type": "markdown",
   "metadata": {},
   "source": [
    "### Train CNN Model"
   ]
  },
  {
   "cell_type": "code",
   "execution_count": 29,
   "metadata": {},
   "outputs": [
    {
     "name": "stdout",
     "output_type": "stream",
     "text": [
      "Epoch 1/10\n",
      "4/4 [==============================] - 5s 915ms/step - loss: 788.0302 - accuracy: 0.5510 - recall: 0.4000 - val_loss: 62.5934 - val_accuracy: 0.7143 - val_recall: 1.0000\n",
      "Epoch 2/10\n",
      "4/4 [==============================] - 4s 1s/step - loss: 62.2728 - accuracy: 0.4082 - recall: 0.5667 - val_loss: 21.6678 - val_accuracy: 0.2857 - val_recall: 0.0000e+00\n",
      "Epoch 3/10\n",
      "4/4 [==============================] - 4s 986ms/step - loss: 11.1328 - accuracy: 0.5306 - recall: 0.4000 - val_loss: 9.0893 - val_accuracy: 0.7143 - val_recall: 1.0000\n",
      "Epoch 4/10\n",
      "4/4 [==============================] - 4s 970ms/step - loss: 7.0717 - accuracy: 0.5918 - recall: 0.7000 - val_loss: 4.3022 - val_accuracy: 0.7143 - val_recall: 1.0000\n",
      "Epoch 5/10\n",
      "4/4 [==============================] - 4s 853ms/step - loss: 8.5336 - accuracy: 0.6122 - recall: 1.0000 - val_loss: 2.6602 - val_accuracy: 0.7143 - val_recall: 1.0000\n",
      "Epoch 6/10\n",
      "4/4 [==============================] - 4s 836ms/step - loss: 2.8739 - accuracy: 0.4898 - recall: 0.6000 - val_loss: 3.9947 - val_accuracy: 0.2857 - val_recall: 0.0000e+00\n",
      "Epoch 7/10\n",
      "4/4 [==============================] - 3s 827ms/step - loss: 2.2163 - accuracy: 0.5918 - recall: 0.5333 - val_loss: 1.4080 - val_accuracy: 0.6667 - val_recall: 0.9333\n",
      "Epoch 8/10\n",
      "4/4 [==============================] - 4s 871ms/step - loss: 0.9046 - accuracy: 0.6122 - recall: 0.6333 - val_loss: 1.4105 - val_accuracy: 0.2857 - val_recall: 0.0000e+00\n",
      "Epoch 9/10\n",
      "4/4 [==============================] - 4s 950ms/step - loss: 0.7712 - accuracy: 0.6327 - recall: 0.7000 - val_loss: 1.0456 - val_accuracy: 0.7143 - val_recall: 1.0000\n",
      "Epoch 10/10\n",
      "4/4 [==============================] - 4s 956ms/step - loss: 0.7364 - accuracy: 0.7347 - recall: 0.9000 - val_loss: 0.8981 - val_accuracy: 0.5714 - val_recall: 0.6000\n"
     ]
    }
   ],
   "source": [
    "es = EarlyStopping(patience=5, verbose=1)\n",
    "\n",
    "history = model_cnn.fit(\n",
    "    X_train, y_train,\n",
    "    validation_split = 0.3,\n",
    "    batch_size = 16,\n",
    "    epochs=10,\n",
    "    callbacks=[es],\n",
    "    verbose = 1)\n",
    "plot_history(history)"
   ]
  },
  {
   "attachments": {},
   "cell_type": "markdown",
   "metadata": {},
   "source": [
    "## VGG16 Transfer Learning"
   ]
  },
  {
   "attachments": {},
   "cell_type": "markdown",
   "metadata": {},
   "source": [
    "### Build VGG Model"
   ]
  },
  {
   "cell_type": "code",
   "execution_count": 31,
   "metadata": {},
   "outputs": [
    {
     "name": "stdout",
     "output_type": "stream",
     "text": [
      "Model: \"sequential_2\"\n",
      "_________________________________________________________________\n",
      " Layer (type)                Output Shape              Param #   \n",
      "=================================================================\n",
      " vgg16 (Functional)          (None, 12, 12, 512)       14714688  \n",
      "                                                                 \n",
      " flatten_2 (Flatten)         (None, 73728)             0         \n",
      "                                                                 \n",
      " dense_4 (Dense)             (None, 200)               14745800  \n",
      "                                                                 \n",
      " dense_5 (Dense)             (None, 1)                 201       \n",
      "                                                                 \n",
      "=================================================================\n",
      "Total params: 29,460,689\n",
      "Trainable params: 14,746,001\n",
      "Non-trainable params: 14,714,688\n",
      "_________________________________________________________________\n"
     ]
    }
   ],
   "source": [
    "def load_vgg_model():\n",
    "    model = VGG16(weights=\"imagenet\", include_top=False, input_shape=X_train[0].shape)\n",
    "    return model\n",
    "\n",
    "def set_nontrainable_layers(model):\n",
    "    # Set the first layers to be untrainable\n",
    "    model.trainable = False\n",
    "\n",
    "    return model\n",
    "\n",
    "def add_last_layers(model):\n",
    "    '''Take a pre-trained model, set its parameters as non-trainable, and add additional trainable layers on top'''\n",
    "\n",
    "    base_model = set_nontrainable_layers(model)\n",
    "    flatten_layer = layers.Flatten()\n",
    "    dense_layer = layers.Dense(200, activation='relu')\n",
    "    prediction_layer = layers.Dense(1, activation='sigmoid')\n",
    "\n",
    "    model = models.Sequential([\n",
    "        base_model,\n",
    "        flatten_layer,\n",
    "        dense_layer,\n",
    "        prediction_layer\n",
    "    ])\n",
    "\n",
    "    return model\n",
    "\n",
    "def build_vgg_model():\n",
    "\n",
    "    model = load_vgg_model()\n",
    "    model = add_last_layers(model)\n",
    "\n",
    "    opt = optimizers.Adam(learning_rate=0.001)\n",
    "    model.compile(loss='binary_crossentropy',\n",
    "                  optimizer=opt,\n",
    "                  metrics=['accuracy', 'Recall'])\n",
    "    return model\n",
    "\n",
    "model_vgg = build_vgg_model()\n",
    "model_vgg.summary()"
   ]
  },
  {
   "attachments": {},
   "cell_type": "markdown",
   "metadata": {},
   "source": [
    "### Data Preprocessing"
   ]
  },
  {
   "cell_type": "code",
   "execution_count": 32,
   "metadata": {},
   "outputs": [],
   "source": [
    "X_train = preprocess_input(X_train)\n",
    "X_test = preprocess_input(X_test)"
   ]
  },
  {
   "attachments": {},
   "cell_type": "markdown",
   "metadata": {},
   "source": [
    "### Train VGG Model"
   ]
  },
  {
   "cell_type": "code",
   "execution_count": 33,
   "metadata": {},
   "outputs": [
    {
     "name": "stdout",
     "output_type": "stream",
     "text": [
      "Epoch 1/10\n",
      "2/2 [==============================] - ETA: 0s - loss: 21.4274 - accuracy: 0.5714 - recall: 0.7000WARNING:tensorflow:Early stopping conditioned on metric `f1` which is not available. Available metrics are: loss,accuracy,recall,val_loss,val_accuracy,val_recall\n"
     ]
    },
    {
     "name": "stderr",
     "output_type": "stream",
     "text": [
      "WARNING:tensorflow:Early stopping conditioned on metric `f1` which is not available. Available metrics are: loss,accuracy,recall,val_loss,val_accuracy,val_recall\n"
     ]
    },
    {
     "name": "stdout",
     "output_type": "stream",
     "text": [
      "2/2 [==============================] - 56s 29s/step - loss: 21.4274 - accuracy: 0.5714 - recall: 0.7000 - val_loss: 5.7328 - val_accuracy: 0.7619 - val_recall: 0.9333\n",
      "Epoch 2/10\n",
      "2/2 [==============================] - ETA: 0s - loss: 0.8785 - accuracy: 0.8980 - recall: 0.8333     WARNING:tensorflow:Early stopping conditioned on metric `f1` which is not available. Available metrics are: loss,accuracy,recall,val_loss,val_accuracy,val_recall\n"
     ]
    },
    {
     "name": "stderr",
     "output_type": "stream",
     "text": [
      "WARNING:tensorflow:Early stopping conditioned on metric `f1` which is not available. Available metrics are: loss,accuracy,recall,val_loss,val_accuracy,val_recall\n"
     ]
    },
    {
     "name": "stdout",
     "output_type": "stream",
     "text": [
      "2/2 [==============================] - 55s 30s/step - loss: 0.8785 - accuracy: 0.8980 - recall: 0.8333 - val_loss: 9.3494 - val_accuracy: 0.4286 - val_recall: 0.3333\n",
      "Epoch 3/10\n"
     ]
    }
   ],
   "source": [
    "model = model_vgg\n",
    "\n",
    "es = EarlyStopping(monitor = 'f1',\n",
    "                   mode = 'max',\n",
    "                   patience = 5,\n",
    "                   verbose = 1,\n",
    "                   restore_best_weights = True)\n",
    "\n",
    "history = model.fit(X_train, y_train,\n",
    "                    validation_split=0.3,\n",
    "                    epochs=10,\n",
    "                    batch_size=32,\n",
    "                    callbacks=[es])\n",
    "\n",
    "plot_history(history)\n"
   ]
  },
  {
   "attachments": {},
   "cell_type": "markdown",
   "metadata": {},
   "source": [
    "## ResNET"
   ]
  },
  {
   "cell_type": "code",
   "execution_count": null,
   "metadata": {},
   "outputs": [],
   "source": [
    "from tensorflow.keras.applications import ResNet50\n",
    "from tensorflow.keras.applications.resnet50 import preprocess_input\n",
    "\n",
    "# Load the pre-trained ResNet50 model without the top (fully connected) layers\n",
    "def load_ResNet50_model():\n",
    "    model = ResNet50(weights='imagenet', include_top=False, input_shape=X_train[0].shape)\n",
    "    return model\n",
    "def set_nontrainable_layers(model):\n",
    "    # Set the first layers to be untrainable\n",
    "    model.trainable = False\n",
    "\n",
    "    return model\n",
    "def add_last_layers(model):\n",
    "    '''Take a pre-trained model, set its parameters as non-trainable, and add additional trainable layers on top'''\n",
    "\n",
    "    base_model = set_nontrainable_layers(model)\n",
    "    flatten_layer = layers.Flatten()\n",
    "    dense_layer = layers.Dense(200, activation='relu')\n",
    "    prediction_layer = layers.Dense(1, activation='sigmoid')\n",
    "\n",
    "    model = models.Sequential([\n",
    "        base_model,\n",
    "        flatten_layer,\n",
    "        dense_layer,\n",
    "        prediction_layer\n",
    "    ])\n",
    "\n",
    "    return model"
   ]
  },
  {
   "cell_type": "code",
   "execution_count": null,
   "metadata": {},
   "outputs": [],
   "source": [
    "def build_ResNet50_model():\n",
    "\n",
    "    model = load_ResNet50_model()\n",
    "    model = add_last_layers(model)\n",
    "\n",
    "    opt = optimizers.Adam(learning_rate=0.001)\n",
    "    model.compile(loss='binary_crossentropy',\n",
    "                  optimizer=opt,\n",
    "                  metrics=['accuracy', 'Recall'])\n",
    "    return model\n"
   ]
  },
  {
   "cell_type": "code",
   "execution_count": null,
   "metadata": {},
   "outputs": [],
   "source": [
    "X_train = preprocess_input(X_train)\n",
    "X_test = preprocess_input(X_test)"
   ]
  },
  {
   "cell_type": "code",
   "execution_count": null,
   "metadata": {},
   "outputs": [],
   "source": [
    "ResNet50_model = build_ResNet50_model()\n",
    "\n",
    "es = EarlyStopping(monitor = 'val_accuracy',\n",
    "                   mode = 'max',\n",
    "                   patience = 5,\n",
    "                   verbose = 1,\n",
    "                   restore_best_weights = True)\n",
    "history = ResNet50_model.fit(X_train, y_train,\n",
    "                    validation_split=0.3,\n",
    "                    epochs=3,\n",
    "                    batch_size=32,\n",
    "                    callbacks=[es])"
   ]
  },
  {
   "attachments": {},
   "cell_type": "markdown",
   "metadata": {},
   "source": []
  },
  {
   "attachments": {},
   "cell_type": "markdown",
   "metadata": {},
   "source": [
    "## Evaluate Model"
   ]
  },
  {
   "cell_type": "code",
   "execution_count": 17,
   "metadata": {},
   "outputs": [
    {
     "name": "stdout",
     "output_type": "stream",
     "text": [
      "1/1 [==============================] - 0s 433ms/step - loss: 3.8755 - accuracy: 0.2333 - recall: 0.0000e+00\n",
      "1/1 [==============================] - 0s 391ms/step\n"
     ]
    },
    {
     "data": {
      "image/png": "[encoded data removed]",
      "text/plain": [
       "<Figure size 640x480 with 2 Axes>"
      ]
     },
     "metadata": {},
     "output_type": "display_data"
    },
    {
     "data": {
      "text/plain": [
       "(<Axes: title={'center': 'recall'}>,\n",
       " <Axes: title={'center': 'Accuracy'}>,\n",
       " <Axes: title={'center': 'Loss'}>)"
      ]
     },
     "execution_count": 17,
     "metadata": {},
     "output_type": "execute_result"
    },
    {
     "data": {
      "image/png": "[encoded data removed]",
      "text/plain": [
       "<Figure size 1200x400 with 3 Axes>"
      ]
     },
     "metadata": {},
     "output_type": "display_data"
    }
   ],
   "source": [
    "model = model_cnn\n",
    "\n",
    "model_evaluate(model, X_test, y_test)\n",
    "plot_history(history)"
   ]
  },
  {
   "attachments": {},
   "cell_type": "markdown",
   "metadata": {},
   "source": [
    "# Save the trained model"
   ]
  },
  {
   "cell_type": "code",
   "execution_count": 20,
   "metadata": {},
   "outputs": [
    {
     "name": "stderr",
     "output_type": "stream",
     "text": [
      "WARNING:absl:Found untraced functions such as _jit_compiled_convolution_op, _jit_compiled_convolution_op, _jit_compiled_convolution_op, _jit_compiled_convolution_op, _update_step_xla while saving (showing 5 of 5). These functions will not be directly callable after loading.\n"
     ]
    },
    {
     "name": "stdout",
     "output_type": "stream",
     "text": [
      "INFO:tensorflow:Assets written to: ../model/model_dummy/assets\n"
     ]
    },
    {
     "name": "stderr",
     "output_type": "stream",
     "text": [
      "INFO:tensorflow:Assets written to: ../model/model_dummy/assets\n"
     ]
    }
   ],
   "source": [
    "# Serialize the trained model\n",
    "model_name= 'model_dummy'\n",
    "model_cnn.save(f'../model/{model_name}')\n"
   ]
  }
 ],
 "metadata": {
  "kernelspec": {
   "display_name": "skin_detection_1271",
   "language": "python",
   "name": "python3"
  },
  "language_info": {
   "codemirror_mode": {
    "name": "ipython",
    "version": 3
   },
   "file_extension": ".py",
   "mimetype": "text/x-python",
   "name": "python",
   "nbconvert_exporter": "python",
   "pygments_lexer": "ipython3",
   "version": "3.10.6"
  },
  "orig_nbformat": 4
 },
 "nbformat": 4,
 "nbformat_minor": 2
}
