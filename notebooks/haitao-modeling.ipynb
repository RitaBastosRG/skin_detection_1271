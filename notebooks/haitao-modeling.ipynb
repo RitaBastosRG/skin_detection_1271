{
 "cells": [
  {
   "attachments": {},
   "cell_type": "markdown",
   "metadata": {},
   "source": [
    "# Load the required packages"
   ]
  },
  {
   "cell_type": "code",
   "execution_count": 19,
   "metadata": {},
   "outputs": [],
   "source": [
    "import numpy as np\n",
    "import pandas as pd\n",
    "import matplotlib.pyplot as plt\n",
    "from PIL import Image\n",
    "from sklearn.model_selection import train_test_split   \n",
    "\n",
    "from tensorflow.keras import models, layers \n",
    "from tensorflow.keras.callbacks import EarlyStopping\n",
    "from tensorflow.keras import optimizers\n",
    "\n",
    "from tensorflow.keras.applications.vgg16 import preprocess_input\n",
    "from tensorflow.keras.applications.vgg16 import VGG16\n",
    "\n",
    "from sklearn.metrics import confusion_matrix, ConfusionMatrixDisplay"
   ]
  },
  {
   "attachments": {},
   "cell_type": "markdown",
   "metadata": {},
   "source": [
    "# Helper Functions"
   ]
  },
  {
   "cell_type": "code",
   "execution_count": 20,
   "metadata": {},
   "outputs": [],
   "source": [
    "def model_evaluate(model, X_test, y_test):\n",
    "    model = model\n",
    "    model.evaluate(X_test, y_test)\n",
    "    y_pred = model.predict(X_test)\n",
    "    y_pred_int = np.round(y_pred).astype(int)\n",
    "\n",
    "    cm = confusion_matrix(y_test, y_pred_int)\n",
    "    disp = ConfusionMatrixDisplay(confusion_matrix=cm)\n",
    "    disp.plot()\n",
    "    plt.show()"
   ]
  },
  {
   "cell_type": "code",
   "execution_count": 22,
   "metadata": {},
   "outputs": [],
   "source": [
    "import matplotlib.pyplot as plt\n",
    "def plot_history(history, title='training history', axs=None, exp_name=\"accuracy\"):\n",
    "    if axs is not None:\n",
    "        ax1, ax2 = axs\n",
    "    else:\n",
    "        f, (ax1, ax2) = plt.subplots(1, 2, figsize=(12, 4))\n",
    "    \n",
    "    if len(exp_name) > 0 and exp_name[0] != '_':\n",
    "        exp_name = '_' + exp_name\n",
    "    ax1.plot(history.history['recall'], label='train')\n",
    "    ax1.plot(history.history['val_recall'], label='val')\n",
    "    #ax1.set_ylim(0., 2.2)\n",
    "    ax1.set_title('Recall')\n",
    "    ax1.legend()\n",
    "\n",
    "    ax2.plot(history.history[exp_name], label='train')\n",
    "    ax2.plot(history.history['val_{exp_name}'], label='val')\n",
    "    #ax2.set_ylim(0.25, 1.)\n",
    "    ax2.set_title('Accuracy')\n",
    "    ax2.legend()\n",
    "    return (ax1, ax2)"
   ]
  },
  {
   "cell_type": "code",
   "execution_count": 23,
   "metadata": {},
   "outputs": [],
   "source": [
    "def get_image(item):\n",
    "    file_name = f\"../processed_data/{item['Cat']}/{item['image']}.jpg\"\n",
    "    image = Image.open(file_name)\n",
    "    width, height=image.size\n",
    "    assert (width==400 and height==400), f\"image: {file_name}, width: {width}, height: {height}\"\n",
    "    return np.asarray(image, dtype=np.float32)\n"
   ]
  },
  {
   "attachments": {},
   "cell_type": "markdown",
   "metadata": {},
   "source": [
    "# Load Processed Data"
   ]
  },
  {
   "attachments": {},
   "cell_type": "markdown",
   "metadata": {},
   "source": [
    "### Load meta data"
   ]
  },
  {
   "cell_type": "code",
   "execution_count": 24,
   "metadata": {},
   "outputs": [
    {
     "data": {
      "text/html": [
       "<div>\n",
       "<style scoped>\n",
       "    .dataframe tbody tr th:only-of-type {\n",
       "        vertical-align: middle;\n",
       "    }\n",
       "\n",
       "    .dataframe tbody tr th {\n",
       "        vertical-align: top;\n",
       "    }\n",
       "\n",
       "    .dataframe thead th {\n",
       "        text-align: right;\n",
       "    }\n",
       "</style>\n",
       "<table border=\"1\" class=\"dataframe\">\n",
       "  <thead>\n",
       "    <tr style=\"text-align: right;\">\n",
       "      <th></th>\n",
       "      <th>image</th>\n",
       "      <th>MEL</th>\n",
       "      <th>NV</th>\n",
       "      <th>BCC</th>\n",
       "      <th>AK</th>\n",
       "      <th>BKL</th>\n",
       "      <th>DF</th>\n",
       "      <th>VASC</th>\n",
       "      <th>SCC</th>\n",
       "      <th>UNK</th>\n",
       "      <th>Cat</th>\n",
       "      <th>y</th>\n",
       "    </tr>\n",
       "  </thead>\n",
       "  <tbody>\n",
       "    <tr>\n",
       "      <th>0</th>\n",
       "      <td>ISIC_0000001</td>\n",
       "      <td>0.0</td>\n",
       "      <td>1.0</td>\n",
       "      <td>0.0</td>\n",
       "      <td>0.0</td>\n",
       "      <td>0.0</td>\n",
       "      <td>0.0</td>\n",
       "      <td>0.0</td>\n",
       "      <td>0.0</td>\n",
       "      <td>0.0</td>\n",
       "      <td>NV</td>\n",
       "      <td>0</td>\n",
       "    </tr>\n",
       "    <tr>\n",
       "      <th>1</th>\n",
       "      <td>ISIC_0000002</td>\n",
       "      <td>1.0</td>\n",
       "      <td>0.0</td>\n",
       "      <td>0.0</td>\n",
       "      <td>0.0</td>\n",
       "      <td>0.0</td>\n",
       "      <td>0.0</td>\n",
       "      <td>0.0</td>\n",
       "      <td>0.0</td>\n",
       "      <td>0.0</td>\n",
       "      <td>MEL</td>\n",
       "      <td>1</td>\n",
       "    </tr>\n",
       "    <tr>\n",
       "      <th>2</th>\n",
       "      <td>ISIC_0000003</td>\n",
       "      <td>0.0</td>\n",
       "      <td>1.0</td>\n",
       "      <td>0.0</td>\n",
       "      <td>0.0</td>\n",
       "      <td>0.0</td>\n",
       "      <td>0.0</td>\n",
       "      <td>0.0</td>\n",
       "      <td>0.0</td>\n",
       "      <td>0.0</td>\n",
       "      <td>NV</td>\n",
       "      <td>0</td>\n",
       "    </tr>\n",
       "    <tr>\n",
       "      <th>3</th>\n",
       "      <td>ISIC_0000004</td>\n",
       "      <td>1.0</td>\n",
       "      <td>0.0</td>\n",
       "      <td>0.0</td>\n",
       "      <td>0.0</td>\n",
       "      <td>0.0</td>\n",
       "      <td>0.0</td>\n",
       "      <td>0.0</td>\n",
       "      <td>0.0</td>\n",
       "      <td>0.0</td>\n",
       "      <td>MEL</td>\n",
       "      <td>1</td>\n",
       "    </tr>\n",
       "    <tr>\n",
       "      <th>4</th>\n",
       "      <td>ISIC_0000007</td>\n",
       "      <td>0.0</td>\n",
       "      <td>1.0</td>\n",
       "      <td>0.0</td>\n",
       "      <td>0.0</td>\n",
       "      <td>0.0</td>\n",
       "      <td>0.0</td>\n",
       "      <td>0.0</td>\n",
       "      <td>0.0</td>\n",
       "      <td>0.0</td>\n",
       "      <td>NV</td>\n",
       "      <td>0</td>\n",
       "    </tr>\n",
       "  </tbody>\n",
       "</table>\n",
       "</div>"
      ],
      "text/plain": [
       "          image  MEL   NV  BCC   AK  BKL   DF  VASC  SCC  UNK  Cat  y\n",
       "0  ISIC_0000001  0.0  1.0  0.0  0.0  0.0  0.0   0.0  0.0  0.0   NV  0\n",
       "1  ISIC_0000002  1.0  0.0  0.0  0.0  0.0  0.0   0.0  0.0  0.0  MEL  1\n",
       "2  ISIC_0000003  0.0  1.0  0.0  0.0  0.0  0.0   0.0  0.0  0.0   NV  0\n",
       "3  ISIC_0000004  1.0  0.0  0.0  0.0  0.0  0.0   0.0  0.0  0.0  MEL  1\n",
       "4  ISIC_0000007  0.0  1.0  0.0  0.0  0.0  0.0   0.0  0.0  0.0   NV  0"
      ]
     },
     "execution_count": 24,
     "metadata": {},
     "output_type": "execute_result"
    }
   ],
   "source": [
    "data = pd.read_csv('../processed_data/ISIC_2019_Training_GroundTruth_Processed_Balanced.csv')\n",
    "data.head()"
   ]
  },
  {
   "cell_type": "code",
   "execution_count": 25,
   "metadata": {},
   "outputs": [
    {
     "name": "stdout",
     "output_type": "stream",
     "text": [
      "the shape of the processed data setis (24806, 12)\n"
     ]
    },
    {
     "data": {
      "image/png": "[encoded data removed]",
      "text/plain": [
       "<Figure size 640x480 with 1 Axes>"
      ]
     },
     "metadata": {},
     "output_type": "display_data"
    }
   ],
   "source": [
    "print(f'the shape of the processed data setis {data.shape}')\n",
    "data.sum()[1:9].plot.bar();"
   ]
  },
  {
   "attachments": {},
   "cell_type": "markdown",
   "metadata": {},
   "source": [
    "### Load image data"
   ]
  },
  {
   "cell_type": "code",
   "execution_count": 26,
   "metadata": {},
   "outputs": [
    {
     "name": "stdout",
     "output_type": "stream",
     "text": [
      "(70, 400, 400, 3) (30, 400, 400, 3) (70,) (30,)\n"
     ]
    }
   ],
   "source": [
    "n_samples=100; \n",
    "sample = data.sample(n_samples, random_state=42)\n",
    "# sample = data #load the full dataset\n",
    "\n",
    "X = sample.apply(get_image, axis=1)\n",
    "X = np.stack(X)\n",
    "y = sample.y\n",
    "\n",
    "X_train, X_test, y_train, y_test = train_test_split(X, y, test_size=0.3)\n",
    "print(X_train.shape, X_test.shape, y_train.shape, y_test.shape)"
   ]
  },
  {
   "attachments": {},
   "cell_type": "markdown",
   "metadata": {},
   "source": [
    "# Modeling"
   ]
  },
  {
   "attachments": {},
   "cell_type": "markdown",
   "metadata": {},
   "source": [
    "## CNN Model"
   ]
  },
  {
   "attachments": {},
   "cell_type": "markdown",
   "metadata": {},
   "source": [
    "### build CNN Model"
   ]
  },
  {
   "cell_type": "code",
   "execution_count": 7,
   "metadata": {},
   "outputs": [
    {
     "name": "stdout",
     "output_type": "stream",
     "text": [
      "Model: \"sequential\"\n",
      "_________________________________________________________________\n",
      " Layer (type)                Output Shape              Param #   \n",
      "=================================================================\n",
      " conv2d (Conv2D)             (None, 400, 400, 16)      448       \n",
      "                                                                 \n",
      " max_pooling2d (MaxPooling2D  (None, 200, 200, 16)     0         \n",
      " )                                                               \n",
      "                                                                 \n",
      " conv2d_1 (Conv2D)           (None, 200, 200, 32)      4640      \n",
      "                                                                 \n",
      " max_pooling2d_1 (MaxPooling  (None, 100, 100, 32)     0         \n",
      " 2D)                                                             \n",
      "                                                                 \n",
      " conv2d_2 (Conv2D)           (None, 100, 100, 64)      18496     \n",
      "                                                                 \n",
      " max_pooling2d_2 (MaxPooling  (None, 50, 50, 64)       0         \n",
      " 2D)                                                             \n",
      "                                                                 \n",
      " conv2d_3 (Conv2D)           (None, 50, 50, 64)        16448     \n",
      "                                                                 \n",
      " max_pooling2d_3 (MaxPooling  (None, 25, 25, 64)       0         \n",
      " 2D)                                                             \n",
      "                                                                 \n",
      " flatten (Flatten)           (None, 40000)             0         \n",
      "                                                                 \n",
      " dense (Dense)               (None, 100)               4000100   \n",
      "                                                                 \n",
      " dense_1 (Dense)             (None, 1)                 101       \n",
      "                                                                 \n",
      "=================================================================\n",
      "Total params: 4,040,233\n",
      "Trainable params: 4,040,233\n",
      "Non-trainable params: 0\n",
      "_________________________________________________________________\n"
     ]
    }
   ],
   "source": [
    "def initialize_CNN_model():\n",
    "    \n",
    "    model = models.Sequential()\n",
    "\n",
    "    model.add(layers.Conv2D(16, (3, 3), input_shape = (400,400,3), activation = 'relu', padding='same'))\n",
    "    model.add(layers.MaxPooling2D(pool_size=(2, 2)))\n",
    "\n",
    "    model.add(layers.Conv2D(32, (3, 3), activation = 'relu', padding='same' ))\n",
    "    model.add(layers.MaxPooling2D(pool_size=(2, 2)))\n",
    "    \n",
    "    model.add(layers.Conv2D(64, (3, 3), activation = 'relu', padding='same'))\n",
    "    model.add(layers.MaxPooling2D(pool_size=(2, 2)))\n",
    "    \n",
    "    model.add(layers.Conv2D(64, (2, 2), activation = 'relu', padding='same'))\n",
    "    model.add(layers.MaxPooling2D(pool_size=(2, 2)))\n",
    "\n",
    "    model.add(layers.Flatten())\n",
    "    model.add(layers.Dense(units = 100, activation = 'relu'))\n",
    "    model.add(layers.Dense(units = 1, activation = 'sigmoid'))\n",
    "\n",
    "    model.compile(loss='binary_crossentropy',\n",
    "                 optimizer='adam',\n",
    "                 metrics =['accuracy', 'Recall'])   \n",
    "\n",
    "    return model\n",
    "\n",
    "model_cnn = initialize_CNN_model()\n",
    "model_cnn.summary()"
   ]
  },
  {
   "attachments": {},
   "cell_type": "markdown",
   "metadata": {},
   "source": [
    "### Train CNN Model"
   ]
  },
  {
   "cell_type": "code",
   "execution_count": 8,
   "metadata": {},
   "outputs": [
    {
     "name": "stdout",
     "output_type": "stream",
     "text": [
      "Epoch 1/10\n",
      "307/307 [==============================] - 322s 1s/step - loss: 3.1727 - accuracy: 0.6684 - recall: 0.9355 - val_loss: 0.6043 - val_accuracy: 0.6771 - val_recall: 0.9979\n",
      "Epoch 2/10\n",
      "307/307 [==============================] - 323s 1s/step - loss: 0.6098 - accuracy: 0.6796 - recall: 0.9340 - val_loss: 0.6062 - val_accuracy: 0.7138 - val_recall: 0.9726\n",
      "Epoch 3/10\n",
      "307/307 [==============================] - 324s 1s/step - loss: 0.6298 - accuracy: 0.6827 - recall: 0.9283 - val_loss: 0.5989 - val_accuracy: 0.6833 - val_recall: 0.9958\n",
      "Epoch 4/10\n",
      "307/307 [==============================] - 301s 979ms/step - loss: 0.5997 - accuracy: 0.6967 - recall: 0.9337 - val_loss: 0.6200 - val_accuracy: 0.6771 - val_recall: 0.9972\n",
      "Epoch 5/10\n",
      "307/307 [==============================] - 327s 1s/step - loss: 0.6038 - accuracy: 0.6988 - recall: 0.9235 - val_loss: 0.5992 - val_accuracy: 0.7138 - val_recall: 0.9368\n",
      "Epoch 6/10\n",
      "307/307 [==============================] - 308s 1000ms/step - loss: 0.5763 - accuracy: 0.7157 - recall: 0.9337 - val_loss: 0.5754 - val_accuracy: 0.7086 - val_recall: 0.9283\n",
      "Epoch 7/10\n",
      "307/307 [==============================] - 324s 1s/step - loss: 0.5731 - accuracy: 0.7127 - recall: 0.9286 - val_loss: 0.7161 - val_accuracy: 0.5610 - val_recall: 0.4568\n",
      "Epoch 8/10\n",
      "307/307 [==============================] - 346s 1s/step - loss: 0.5737 - accuracy: 0.7084 - recall: 0.9181 - val_loss: 0.5784 - val_accuracy: 0.6929 - val_recall: 0.8819\n",
      "Epoch 9/10\n",
      "307/307 [==============================] - 419s 1s/step - loss: 0.5709 - accuracy: 0.7153 - recall: 0.9193 - val_loss: 0.6084 - val_accuracy: 0.7014 - val_recall: 0.9944\n",
      "Epoch 10/10\n",
      "307/307 [==============================] - 533s 2s/step - loss: 0.5700 - accuracy: 0.7100 - recall: 0.9307 - val_loss: 0.6219 - val_accuracy: 0.6510 - val_recall: 0.7505\n"
     ]
    }
   ],
   "source": [
    "es = EarlyStopping(patience=5, verbose=1)\n",
    "\n",
    "history = model.fit(\n",
    "    X_train, y_train,\n",
    "    validation_split = 0.3,\n",
    "    batch_size = 16,\n",
    "    epochs=10,\n",
    "    callbacks=[es],\n",
    "    verbose = 1)"
   ]
  },
  {
   "attachments": {},
   "cell_type": "markdown",
   "metadata": {},
   "source": [
    "## VGG16 Transfer Learning"
   ]
  },
  {
   "attachments": {},
   "cell_type": "markdown",
   "metadata": {},
   "source": [
    "### Build VGG Model"
   ]
  },
  {
   "cell_type": "code",
   "execution_count": 27,
   "metadata": {},
   "outputs": [
    {
     "name": "stdout",
     "output_type": "stream",
     "text": [
      "Model: \"sequential_1\"\n",
      "_________________________________________________________________\n",
      " Layer (type)                Output Shape              Param #   \n",
      "=================================================================\n",
      " vgg16 (Functional)          (None, 12, 12, 512)       14714688  \n",
      "                                                                 \n",
      " flatten_1 (Flatten)         (None, 73728)             0         \n",
      "                                                                 \n",
      " dense_2 (Dense)             (None, 200)               14745800  \n",
      "                                                                 \n",
      " dense_3 (Dense)             (None, 1)                 201       \n",
      "                                                                 \n",
      "=================================================================\n",
      "Total params: 29,460,689\n",
      "Trainable params: 14,746,001\n",
      "Non-trainable params: 14,714,688\n",
      "_________________________________________________________________\n"
     ]
    }
   ],
   "source": [
    "def load_vgg_model():\n",
    "    model = VGG16(weights=\"imagenet\", include_top=False, input_shape=X_train[0].shape)\n",
    "    return model\n",
    "\n",
    "def set_nontrainable_layers(model):\n",
    "    # Set the first layers to be untrainable\n",
    "    model.trainable = False\n",
    "\n",
    "    return model\n",
    "\n",
    "def add_last_layers(model):\n",
    "    '''Take a pre-trained model, set its parameters as non-trainable, and add additional trainable layers on top'''\n",
    "\n",
    "    base_model = set_nontrainable_layers(model)\n",
    "    flatten_layer = layers.Flatten()\n",
    "    dense_layer = layers.Dense(200, activation='relu')\n",
    "    prediction_layer = layers.Dense(1, activation='sigmoid')\n",
    "\n",
    "    model = models.Sequential([\n",
    "        base_model,\n",
    "        flatten_layer,\n",
    "        dense_layer,\n",
    "        prediction_layer\n",
    "    ])\n",
    "\n",
    "    return model\n",
    "\n",
    "def build_vgg_model():\n",
    "\n",
    "    model = load_vgg_model()\n",
    "    model = add_last_layers(model)\n",
    "\n",
    "    opt = optimizers.Adam(learning_rate=0.001)\n",
    "    model.compile(loss='binary_crossentropy',\n",
    "                  optimizer=opt,\n",
    "                  metrics=['accuracy', 'Recall'])\n",
    "    return model\n",
    "\n",
    "model_vgg = build_vgg_model()\n",
    "model_vgg.summary()"
   ]
  },
  {
   "attachments": {},
   "cell_type": "markdown",
   "metadata": {},
   "source": [
    "### Data Preprocessing"
   ]
  },
  {
   "cell_type": "code",
   "execution_count": 28,
   "metadata": {},
   "outputs": [],
   "source": [
    "X_train = preprocess_input(X_train)\n",
    "X_test = preprocess_input(X_test)"
   ]
  },
  {
   "attachments": {},
   "cell_type": "markdown",
   "metadata": {},
   "source": [
    "### Train VGG Model"
   ]
  },
  {
   "cell_type": "code",
   "execution_count": 29,
   "metadata": {},
   "outputs": [
    {
     "name": "stdout",
     "output_type": "stream",
     "text": [
      "Epoch 1/10\n",
      "2/2 [==============================] - 51s 26s/step - loss: 27.3775 - accuracy: 0.5306 - recall: 0.5833 - val_loss: 45.0694 - val_accuracy: 0.7619 - val_recall: 1.0000\n",
      "Epoch 2/10\n",
      "2/2 [==============================] - 49s 27s/step - loss: 20.5014 - accuracy: 0.7347 - recall: 1.0000 - val_loss: 15.8834 - val_accuracy: 0.7619 - val_recall: 1.0000\n",
      "Epoch 3/10\n",
      "2/2 [==============================] - 48s 27s/step - loss: 0.6958 - accuracy: 0.8571 - recall: 1.0000 - val_loss: 2.9993 - val_accuracy: 0.8571 - val_recall: 1.0000\n",
      "Epoch 4/10\n",
      "2/2 [==============================] - 50s 26s/step - loss: 0.0961 - accuracy: 0.9592 - recall: 0.9444 - val_loss: 1.1367 - val_accuracy: 0.5714 - val_recall: 0.6250\n",
      "Epoch 5/10\n",
      "2/2 [==============================] - 50s 27s/step - loss: 0.4607 - accuracy: 0.8571 - recall: 0.8056 - val_loss: 0.9196 - val_accuracy: 0.5714 - val_recall: 0.6250\n",
      "Epoch 6/10\n",
      "2/2 [==============================] - 45s 24s/step - loss: 0.0161 - accuracy: 1.0000 - recall: 1.0000 - val_loss: 0.9894 - val_accuracy: 0.7143 - val_recall: 0.8750\n",
      "Epoch 7/10\n",
      "2/2 [==============================] - 48s 27s/step - loss: 0.0171 - accuracy: 1.0000 - recall: 1.0000 - val_loss: 1.1311 - val_accuracy: 0.7143 - val_recall: 0.9375\n",
      "Epoch 8/10\n",
      "2/2 [==============================] - ETA: 0s - loss: 0.0188 - accuracy: 1.0000 - recall: 1.0000 Restoring model weights from the end of the best epoch: 3.\n",
      "2/2 [==============================] - 50s 26s/step - loss: 0.0188 - accuracy: 1.0000 - recall: 1.0000 - val_loss: 1.2542 - val_accuracy: 0.7143 - val_recall: 0.9375\n",
      "Epoch 8: early stopping\n"
     ]
    }
   ],
   "source": [
    "model = model_vgg\n",
    "\n",
    "es = EarlyStopping(monitor = 'f1',\n",
    "                   mode = 'max',\n",
    "                   patience = 5,\n",
    "                   verbose = 1,\n",
    "                   restore_best_weights = True)\n",
    "\n",
    "history = model.fit(X_train, y_train,\n",
    "                    validation_split=0.3,\n",
    "                    epochs=10,\n",
    "                    batch_size=32,\n",
    "                    callbacks=[es])\n",
    "\n"
   ]
  },
  {
   "attachments": {},
   "cell_type": "markdown",
   "metadata": {},
   "source": [
    "## Evaluate Model"
   ]
  },
  {
   "cell_type": "code",
   "execution_count": 30,
   "metadata": {},
   "outputs": [
    {
     "name": "stdout",
     "output_type": "stream",
     "text": [
      "1/1 [==============================] - 20s 20s/step - loss: 2.6751 - accuracy: 0.6667 - recall: 0.8571\n",
      "1/1 [==============================] - 19s 19s/step\n"
     ]
    },
    {
     "data": {
      "image/png": "[encoded data removed]",
      "text/plain": [
       "<Figure size 640x480 with 2 Axes>"
      ]
     },
     "metadata": {},
     "output_type": "display_data"
    },
    {
     "data": {
      "text/plain": [
       "(<Axes: title={'center': 'Recall'}>, <Axes: title={'center': 'Accuracy'}>)"
      ]
     },
     "execution_count": 30,
     "metadata": {},
     "output_type": "execute_result"
    },
    {
     "data": {
      "image/png": "[encoded data removed]",
      "text/plain": [
       "<Figure size 1200x400 with 2 Axes>"
      ]
     },
     "metadata": {},
     "output_type": "display_data"
    }
   ],
   "source": [
    "model_evaluate(model, X_test, y_test)\n",
    "plot_history(history,exp_name='f1')"
   ]
  },
  {
   "attachments": {},
   "cell_type": "markdown",
   "metadata": {},
   "source": [
    "# Save the trained model"
   ]
  },
  {
   "cell_type": "code",
   "execution_count": null,
   "metadata": {},
   "outputs": [],
   "source": [
    "# Serialize the trained model\n",
    "model_name= 'model_dummy'\n",
    "import pickle\n",
    "file_name_pickle = f'../{model_name}.pickle'\n",
    "with open(file_name_pickle, 'wb') as file:\n",
    "    pickle.dump(model, file)"
   ]
  }
 ],
 "metadata": {
  "kernelspec": {
   "display_name": "skin_detection_1271",
   "language": "python",
   "name": "python3"
  },
  "language_info": {
   "codemirror_mode": {
    "name": "ipython",
    "version": 3
   },
   "file_extension": ".py",
   "mimetype": "text/x-python",
   "name": "python",
   "nbconvert_exporter": "python",
   "pygments_lexer": "ipython3",
   "version": "3.10.6"
  },
  "orig_nbformat": 4
 },
 "nbformat": 4,
 "nbformat_minor": 2
}
