{
  "cells": [
    {
      "cell_type": "code",
      "source": [
        "from google.colab import drive\n",
        "drive.mount('/content/drive')"
      ],
      "metadata": {
        "colab": {
          "base_uri": "https://localhost:8080/"
        },
        "id": "Q-umDFKRhhnh",
        "outputId": "2c8a8cf7-a3cc-4565-baad-ad652fa623d1"
      },
      "execution_count": 1,
      "outputs": [
        {
          "output_type": "stream",
          "name": "stdout",
          "text": [
            "Mounted at /content/drive\n"
          ]
        }
      ]
    },
    {
      "cell_type": "code",
      "source": [
        "\n",
        "import os\n",
        "os.chdir('/content/drive/MyDrive/Colab Notebooks/skin_detection_1271')"
      ],
      "metadata": {
        "id": "4gMA7LHdiBUG"
      },
      "execution_count": 2,
      "outputs": []
    },
    {
      "cell_type": "markdown",
      "metadata": {
        "id": "vubv3c3lhNOY"
      },
      "source": [
        "Libraries"
      ]
    },
    {
      "cell_type": "code",
      "execution_count": 3,
      "metadata": {
        "ExecuteTime": {
          "end_time": "2023-06-13T08:04:19.191984Z",
          "start_time": "2023-06-13T08:04:18.975687Z"
        },
        "_cell_guid": "b1076dfc-b9ad-4769-8c92-a6c4dae69d19",
        "_uuid": "8f2839f25d086af736a60e9eeb907d3b93b6e0e5",
        "id": "MxNuIVZnhNOa"
      },
      "outputs": [],
      "source": [
        "import numpy as np\n",
        "import pandas as pd\n",
        "import matplotlib.pyplot as plt\n",
        "from PIL import Image\n",
        "from tensorflow.keras import models, layers\n",
        "from sklearn.model_selection import train_test_split\n",
        "from tensorflow.keras.applications import ResNet50\n",
        "from tensorflow.keras.applications.resnet50 import preprocess_input\n",
        "from tensorflow.keras import optimizers\n",
        "from tensorflow.keras.callbacks import EarlyStopping"
      ]
    },
    {
      "cell_type": "code",
      "execution_count": 4,
      "metadata": {
        "ExecuteTime": {
          "end_time": "2023-06-13T08:04:20.319241Z",
          "start_time": "2023-06-13T08:04:20.103834Z"
        },
        "execution": {
          "iopub.execute_input": "2023-06-13T06:50:09.115037Z",
          "iopub.status.busy": "2023-06-13T06:50:09.114629Z",
          "iopub.status.idle": "2023-06-13T06:50:09.202634Z",
          "shell.execute_reply": "2023-06-13T06:50:09.201489Z",
          "shell.execute_reply.started": "2023-06-13T06:50:09.115007Z"
        },
        "id": "lp-woQ6QhNOb"
      },
      "outputs": [],
      "source": [
        "data = pd.read_csv('processed_data/ISIC_2019_Training_GroundTruth_Processed_Balanced.csv')"
      ]
    },
    {
      "cell_type": "code",
      "execution_count": 5,
      "metadata": {
        "ExecuteTime": {
          "end_time": "2023-06-13T08:04:21.550583Z",
          "start_time": "2023-06-13T08:04:21.312263Z"
        },
        "execution": {
          "iopub.execute_input": "2023-06-13T06:50:11.774061Z",
          "iopub.status.busy": "2023-06-13T06:50:11.773644Z",
          "iopub.status.idle": "2023-06-13T06:50:11.828343Z",
          "shell.execute_reply": "2023-06-13T06:50:11.827062Z",
          "shell.execute_reply.started": "2023-06-13T06:50:11.774031Z"
        },
        "id": "rr1tSGnMhNOc",
        "colab": {
          "base_uri": "https://localhost:8080/",
          "height": 424
        },
        "outputId": "a7b03213-e8ec-4282-ed49-4dc1f091feb6"
      },
      "outputs": [
        {
          "output_type": "execute_result",
          "data": {
            "text/plain": [
              "                      image  MEL   NV  BCC   AK  BKL   DF  VASC  SCC  UNK  \\\n",
              "0              ISIC_0000001  0.0  1.0  0.0  0.0  0.0  0.0   0.0  0.0  0.0   \n",
              "1              ISIC_0000002  1.0  0.0  0.0  0.0  0.0  0.0   0.0  0.0  0.0   \n",
              "2              ISIC_0000003  0.0  1.0  0.0  0.0  0.0  0.0   0.0  0.0  0.0   \n",
              "3              ISIC_0000004  1.0  0.0  0.0  0.0  0.0  0.0   0.0  0.0  0.0   \n",
              "4              ISIC_0000007  0.0  1.0  0.0  0.0  0.0  0.0   0.0  0.0  0.0   \n",
              "...                     ...  ...  ...  ...  ...  ...  ...   ...  ...  ...   \n",
              "24801  ISIC_0073153_flipped  0.0  0.0  0.0  1.0  0.0  0.0   0.0  0.0  0.0   \n",
              "24802  ISIC_0073157_flipped  0.0  0.0  0.0  1.0  0.0  0.0   0.0  0.0  0.0   \n",
              "24803  ISIC_0073198_flipped  0.0  0.0  0.0  1.0  0.0  0.0   0.0  0.0  0.0   \n",
              "24804  ISIC_0073214_flipped  0.0  0.0  0.0  1.0  0.0  0.0   0.0  0.0  0.0   \n",
              "24805  ISIC_0073224_flipped  0.0  0.0  0.0  1.0  0.0  0.0   0.0  0.0  0.0   \n",
              "\n",
              "       Cat  y  \n",
              "0       NV  0  \n",
              "1      MEL  1  \n",
              "2       NV  0  \n",
              "3      MEL  1  \n",
              "4       NV  0  \n",
              "...    ... ..  \n",
              "24801   AK  1  \n",
              "24802   AK  1  \n",
              "24803   AK  1  \n",
              "24804   AK  1  \n",
              "24805   AK  1  \n",
              "\n",
              "[24806 rows x 12 columns]"
            ],
            "text/html": [
              "\n",
              "  <div id=\"df-491dd5fc-7883-4e66-984e-056ac7e483b9\">\n",
              "    <div class=\"colab-df-container\">\n",
              "      <div>\n",
              "<style scoped>\n",
              "    .dataframe tbody tr th:only-of-type {\n",
              "        vertical-align: middle;\n",
              "    }\n",
              "\n",
              "    .dataframe tbody tr th {\n",
              "        vertical-align: top;\n",
              "    }\n",
              "\n",
              "    .dataframe thead th {\n",
              "        text-align: right;\n",
              "    }\n",
              "</style>\n",
              "<table border=\"1\" class=\"dataframe\">\n",
              "  <thead>\n",
              "    <tr style=\"text-align: right;\">\n",
              "      <th></th>\n",
              "      <th>image</th>\n",
              "      <th>MEL</th>\n",
              "      <th>NV</th>\n",
              "      <th>BCC</th>\n",
              "      <th>AK</th>\n",
              "      <th>BKL</th>\n",
              "      <th>DF</th>\n",
              "      <th>VASC</th>\n",
              "      <th>SCC</th>\n",
              "      <th>UNK</th>\n",
              "      <th>Cat</th>\n",
              "      <th>y</th>\n",
              "    </tr>\n",
              "  </thead>\n",
              "  <tbody>\n",
              "    <tr>\n",
              "      <th>0</th>\n",
              "      <td>ISIC_0000001</td>\n",
              "      <td>0.0</td>\n",
              "      <td>1.0</td>\n",
              "      <td>0.0</td>\n",
              "      <td>0.0</td>\n",
              "      <td>0.0</td>\n",
              "      <td>0.0</td>\n",
              "      <td>0.0</td>\n",
              "      <td>0.0</td>\n",
              "      <td>0.0</td>\n",
              "      <td>NV</td>\n",
              "      <td>0</td>\n",
              "    </tr>\n",
              "    <tr>\n",
              "      <th>1</th>\n",
              "      <td>ISIC_0000002</td>\n",
              "      <td>1.0</td>\n",
              "      <td>0.0</td>\n",
              "      <td>0.0</td>\n",
              "      <td>0.0</td>\n",
              "      <td>0.0</td>\n",
              "      <td>0.0</td>\n",
              "      <td>0.0</td>\n",
              "      <td>0.0</td>\n",
              "      <td>0.0</td>\n",
              "      <td>MEL</td>\n",
              "      <td>1</td>\n",
              "    </tr>\n",
              "    <tr>\n",
              "      <th>2</th>\n",
              "      <td>ISIC_0000003</td>\n",
              "      <td>0.0</td>\n",
              "      <td>1.0</td>\n",
              "      <td>0.0</td>\n",
              "      <td>0.0</td>\n",
              "      <td>0.0</td>\n",
              "      <td>0.0</td>\n",
              "      <td>0.0</td>\n",
              "      <td>0.0</td>\n",
              "      <td>0.0</td>\n",
              "      <td>NV</td>\n",
              "      <td>0</td>\n",
              "    </tr>\n",
              "    <tr>\n",
              "      <th>3</th>\n",
              "      <td>ISIC_0000004</td>\n",
              "      <td>1.0</td>\n",
              "      <td>0.0</td>\n",
              "      <td>0.0</td>\n",
              "      <td>0.0</td>\n",
              "      <td>0.0</td>\n",
              "      <td>0.0</td>\n",
              "      <td>0.0</td>\n",
              "      <td>0.0</td>\n",
              "      <td>0.0</td>\n",
              "      <td>MEL</td>\n",
              "      <td>1</td>\n",
              "    </tr>\n",
              "    <tr>\n",
              "      <th>4</th>\n",
              "      <td>ISIC_0000007</td>\n",
              "      <td>0.0</td>\n",
              "      <td>1.0</td>\n",
              "      <td>0.0</td>\n",
              "      <td>0.0</td>\n",
              "      <td>0.0</td>\n",
              "      <td>0.0</td>\n",
              "      <td>0.0</td>\n",
              "      <td>0.0</td>\n",
              "      <td>0.0</td>\n",
              "      <td>NV</td>\n",
              "      <td>0</td>\n",
              "    </tr>\n",
              "    <tr>\n",
              "      <th>...</th>\n",
              "      <td>...</td>\n",
              "      <td>...</td>\n",
              "      <td>...</td>\n",
              "      <td>...</td>\n",
              "      <td>...</td>\n",
              "      <td>...</td>\n",
              "      <td>...</td>\n",
              "      <td>...</td>\n",
              "      <td>...</td>\n",
              "      <td>...</td>\n",
              "      <td>...</td>\n",
              "      <td>...</td>\n",
              "    </tr>\n",
              "    <tr>\n",
              "      <th>24801</th>\n",
              "      <td>ISIC_0073153_flipped</td>\n",
              "      <td>0.0</td>\n",
              "      <td>0.0</td>\n",
              "      <td>0.0</td>\n",
              "      <td>1.0</td>\n",
              "      <td>0.0</td>\n",
              "      <td>0.0</td>\n",
              "      <td>0.0</td>\n",
              "      <td>0.0</td>\n",
              "      <td>0.0</td>\n",
              "      <td>AK</td>\n",
              "      <td>1</td>\n",
              "    </tr>\n",
              "    <tr>\n",
              "      <th>24802</th>\n",
              "      <td>ISIC_0073157_flipped</td>\n",
              "      <td>0.0</td>\n",
              "      <td>0.0</td>\n",
              "      <td>0.0</td>\n",
              "      <td>1.0</td>\n",
              "      <td>0.0</td>\n",
              "      <td>0.0</td>\n",
              "      <td>0.0</td>\n",
              "      <td>0.0</td>\n",
              "      <td>0.0</td>\n",
              "      <td>AK</td>\n",
              "      <td>1</td>\n",
              "    </tr>\n",
              "    <tr>\n",
              "      <th>24803</th>\n",
              "      <td>ISIC_0073198_flipped</td>\n",
              "      <td>0.0</td>\n",
              "      <td>0.0</td>\n",
              "      <td>0.0</td>\n",
              "      <td>1.0</td>\n",
              "      <td>0.0</td>\n",
              "      <td>0.0</td>\n",
              "      <td>0.0</td>\n",
              "      <td>0.0</td>\n",
              "      <td>0.0</td>\n",
              "      <td>AK</td>\n",
              "      <td>1</td>\n",
              "    </tr>\n",
              "    <tr>\n",
              "      <th>24804</th>\n",
              "      <td>ISIC_0073214_flipped</td>\n",
              "      <td>0.0</td>\n",
              "      <td>0.0</td>\n",
              "      <td>0.0</td>\n",
              "      <td>1.0</td>\n",
              "      <td>0.0</td>\n",
              "      <td>0.0</td>\n",
              "      <td>0.0</td>\n",
              "      <td>0.0</td>\n",
              "      <td>0.0</td>\n",
              "      <td>AK</td>\n",
              "      <td>1</td>\n",
              "    </tr>\n",
              "    <tr>\n",
              "      <th>24805</th>\n",
              "      <td>ISIC_0073224_flipped</td>\n",
              "      <td>0.0</td>\n",
              "      <td>0.0</td>\n",
              "      <td>0.0</td>\n",
              "      <td>1.0</td>\n",
              "      <td>0.0</td>\n",
              "      <td>0.0</td>\n",
              "      <td>0.0</td>\n",
              "      <td>0.0</td>\n",
              "      <td>0.0</td>\n",
              "      <td>AK</td>\n",
              "      <td>1</td>\n",
              "    </tr>\n",
              "  </tbody>\n",
              "</table>\n",
              "<p>24806 rows × 12 columns</p>\n",
              "</div>\n",
              "      <button class=\"colab-df-convert\" onclick=\"convertToInteractive('df-491dd5fc-7883-4e66-984e-056ac7e483b9')\"\n",
              "              title=\"Convert this dataframe to an interactive table.\"\n",
              "              style=\"display:none;\">\n",
              "        \n",
              "  <svg xmlns=\"http://www.w3.org/2000/svg\" height=\"24px\"viewBox=\"0 0 24 24\"\n",
              "       width=\"24px\">\n",
              "    <path d=\"M0 0h24v24H0V0z\" fill=\"none\"/>\n",
              "    <path d=\"M18.56 5.44l.94 2.06.94-2.06 2.06-.94-2.06-.94-.94-2.06-.94 2.06-2.06.94zm-11 1L8.5 8.5l.94-2.06 2.06-.94-2.06-.94L8.5 2.5l-.94 2.06-2.06.94zm10 10l.94 2.06.94-2.06 2.06-.94-2.06-.94-.94-2.06-.94 2.06-2.06.94z\"/><path d=\"M17.41 7.96l-1.37-1.37c-.4-.4-.92-.59-1.43-.59-.52 0-1.04.2-1.43.59L10.3 9.45l-7.72 7.72c-.78.78-.78 2.05 0 2.83L4 21.41c.39.39.9.59 1.41.59.51 0 1.02-.2 1.41-.59l7.78-7.78 2.81-2.81c.8-.78.8-2.07 0-2.86zM5.41 20L4 18.59l7.72-7.72 1.47 1.35L5.41 20z\"/>\n",
              "  </svg>\n",
              "      </button>\n",
              "      \n",
              "  <style>\n",
              "    .colab-df-container {\n",
              "      display:flex;\n",
              "      flex-wrap:wrap;\n",
              "      gap: 12px;\n",
              "    }\n",
              "\n",
              "    .colab-df-convert {\n",
              "      background-color: #E8F0FE;\n",
              "      border: none;\n",
              "      border-radius: 50%;\n",
              "      cursor: pointer;\n",
              "      display: none;\n",
              "      fill: #1967D2;\n",
              "      height: 32px;\n",
              "      padding: 0 0 0 0;\n",
              "      width: 32px;\n",
              "    }\n",
              "\n",
              "    .colab-df-convert:hover {\n",
              "      background-color: #E2EBFA;\n",
              "      box-shadow: 0px 1px 2px rgba(60, 64, 67, 0.3), 0px 1px 3px 1px rgba(60, 64, 67, 0.15);\n",
              "      fill: #174EA6;\n",
              "    }\n",
              "\n",
              "    [theme=dark] .colab-df-convert {\n",
              "      background-color: #3B4455;\n",
              "      fill: #D2E3FC;\n",
              "    }\n",
              "\n",
              "    [theme=dark] .colab-df-convert:hover {\n",
              "      background-color: #434B5C;\n",
              "      box-shadow: 0px 1px 3px 1px rgba(0, 0, 0, 0.15);\n",
              "      filter: drop-shadow(0px 1px 2px rgba(0, 0, 0, 0.3));\n",
              "      fill: #FFFFFF;\n",
              "    }\n",
              "  </style>\n",
              "\n",
              "      <script>\n",
              "        const buttonEl =\n",
              "          document.querySelector('#df-491dd5fc-7883-4e66-984e-056ac7e483b9 button.colab-df-convert');\n",
              "        buttonEl.style.display =\n",
              "          google.colab.kernel.accessAllowed ? 'block' : 'none';\n",
              "\n",
              "        async function convertToInteractive(key) {\n",
              "          const element = document.querySelector('#df-491dd5fc-7883-4e66-984e-056ac7e483b9');\n",
              "          const dataTable =\n",
              "            await google.colab.kernel.invokeFunction('convertToInteractive',\n",
              "                                                     [key], {});\n",
              "          if (!dataTable) return;\n",
              "\n",
              "          const docLinkHtml = 'Like what you see? Visit the ' +\n",
              "            '<a target=\"_blank\" href=https://colab.research.google.com/notebooks/data_table.ipynb>data table notebook</a>'\n",
              "            + ' to learn more about interactive tables.';\n",
              "          element.innerHTML = '';\n",
              "          dataTable['output_type'] = 'display_data';\n",
              "          await google.colab.output.renderOutput(dataTable, element);\n",
              "          const docLink = document.createElement('div');\n",
              "          docLink.innerHTML = docLinkHtml;\n",
              "          element.appendChild(docLink);\n",
              "        }\n",
              "      </script>\n",
              "    </div>\n",
              "  </div>\n",
              "  "
            ]
          },
          "metadata": {},
          "execution_count": 5
        }
      ],
      "source": [
        "data"
      ]
    },
    {
      "cell_type": "code",
      "execution_count": 6,
      "metadata": {
        "execution": {
          "iopub.execute_input": "2023-06-13T06:50:38.974190Z",
          "iopub.status.busy": "2023-06-13T06:50:38.973781Z",
          "iopub.status.idle": "2023-06-13T06:50:38.980106Z",
          "shell.execute_reply": "2023-06-13T06:50:38.978946Z",
          "shell.execute_reply.started": "2023-06-13T06:50:38.974161Z"
        },
        "id": "s8lcRZP7hNOc"
      },
      "outputs": [],
      "source": [
        "def get_image(df):\n",
        "    return np.asarray(Image.open((f\"processed_data/{df['Cat']}/{df['image']}.jpg\")), dtype=np.float32)"
      ]
    },
    {
      "cell_type": "code",
      "execution_count": 7,
      "metadata": {
        "execution": {
          "iopub.execute_input": "2023-06-13T06:52:15.062769Z",
          "iopub.status.busy": "2023-06-13T06:52:15.062330Z",
          "iopub.status.idle": "2023-06-13T06:52:15.083491Z",
          "shell.execute_reply": "2023-06-13T06:52:15.082543Z",
          "shell.execute_reply.started": "2023-06-13T06:52:15.062733Z"
        },
        "id": "oaUwgXGBhNOd",
        "colab": {
          "base_uri": "https://localhost:8080/"
        },
        "outputId": "5514c338-8482-4da8-c2e5-9cb2106ea2fc"
      },
      "outputs": [
        {
          "output_type": "stream",
          "name": "stdout",
          "text": [
            "(700, 400, 400, 3) (300, 400, 400, 3) (700,) (300,)\n"
          ]
        }
      ],
      "source": [
        "n_samples=1000; sample = data.sample(n_samples, random_state=42)\n",
        "# sample = data #load the full dataset\n",
        "\n",
        "X = sample.apply(get_image, axis=1)\n",
        "X = np.stack(X)\n",
        "y = sample.y\n",
        "\n",
        "X_train, X_test, y_train, y_test = train_test_split(X, y, test_size=0.3)\n",
        "print(X_train.shape, X_test.shape, y_train.shape, y_test.shape)"
      ]
    },
    {
      "cell_type": "markdown",
      "metadata": {
        "id": "Su4HCYA2hNOd"
      },
      "source": [
        "Transfered model -Resnet"
      ]
    },
    {
      "cell_type": "code",
      "execution_count": 9,
      "metadata": {
        "id": "yQjTaHuAhNOe"
      },
      "outputs": [],
      "source": [
        "# Load the pre-trained ResNet50 model without the top (fully connected) layers\n",
        "def load_model():\n",
        "    model = ResNet50(weights='imagenet', include_top=False, input_shape=X_train[0].shape)\n",
        "    return model"
      ]
    },
    {
      "cell_type": "code",
      "execution_count": 10,
      "metadata": {
        "id": "Kt4917yghNOe"
      },
      "outputs": [],
      "source": [
        "def set_nontrainable_layers(model):\n",
        "    # Set the first layers to be untrainable\n",
        "    model.trainable = False\n",
        "\n",
        "    return model"
      ]
    },
    {
      "cell_type": "code",
      "execution_count": 11,
      "metadata": {
        "id": "FZHt1bSrhNOe"
      },
      "outputs": [],
      "source": [
        "def add_last_layers(model):\n",
        "    '''Take a pre-trained model, set its parameters as non-trainable, and add additional trainable layers on top'''\n",
        "\n",
        "    base_model = set_nontrainable_layers(model)\n",
        "    flatten_layer = layers.Flatten()\n",
        "    dense_layer = layers.Dense(200, activation='relu')\n",
        "    prediction_layer = layers.Dense(1, activation='sigmoid')\n",
        "\n",
        "    model = models.Sequential([\n",
        "        base_model,\n",
        "        flatten_layer,\n",
        "        dense_layer,\n",
        "        prediction_layer\n",
        "    ])\n",
        "\n",
        "    return model"
      ]
    },
    {
      "cell_type": "code",
      "execution_count": 12,
      "metadata": {
        "id": "zgw9RHxkhNOe"
      },
      "outputs": [],
      "source": [
        "def build_model():\n",
        "\n",
        "    model = load_model()\n",
        "    model = add_last_layers(model)\n",
        "\n",
        "    opt = optimizers.Adam(learning_rate=0.001)\n",
        "    model.compile(loss='binary_crossentropy',\n",
        "                  optimizer=opt,\n",
        "                  metrics=['accuracy', 'Recall'])\n",
        "    return model"
      ]
    },
    {
      "cell_type": "code",
      "execution_count": 13,
      "metadata": {
        "id": "xT8qAVIKhNOf",
        "colab": {
          "base_uri": "https://localhost:8080/"
        },
        "outputId": "306fb856-d71a-4fcd-9a06-81da5f76ee81"
      },
      "outputs": [
        {
          "output_type": "stream",
          "name": "stdout",
          "text": [
            "Downloading data from https://storage.googleapis.com/tensorflow/keras-applications/resnet/resnet50_weights_tf_dim_ordering_tf_kernels_notop.h5\n",
            "94765736/94765736 [==============================] - 3s 0us/step\n",
            "Model: \"sequential\"\n",
            "_________________________________________________________________\n",
            " Layer (type)                Output Shape              Param #   \n",
            "=================================================================\n",
            " resnet50 (Functional)       (None, 13, 13, 2048)      23587712  \n",
            "                                                                 \n",
            " flatten (Flatten)           (None, 346112)            0         \n",
            "                                                                 \n",
            " dense (Dense)               (None, 200)               69222600  \n",
            "                                                                 \n",
            " dense_1 (Dense)             (None, 1)                 201       \n",
            "                                                                 \n",
            "=================================================================\n",
            "Total params: 92,810,513\n",
            "Trainable params: 69,222,801\n",
            "Non-trainable params: 23,587,712\n",
            "_________________________________________________________________\n"
          ]
        }
      ],
      "source": [
        "model = build_model()\n",
        "model.summary()"
      ]
    },
    {
      "cell_type": "code",
      "execution_count": 14,
      "metadata": {
        "id": "-nlRp6h-hNOf"
      },
      "outputs": [],
      "source": [
        "X_train = preprocess_input(X_train)\n",
        "X_test = preprocess_input(X_test)"
      ]
    },
    {
      "cell_type": "code",
      "execution_count": 15,
      "metadata": {
        "id": "7q0ql-YvhNOf"
      },
      "outputs": [],
      "source": [
        "model = build_model()\n",
        "\n",
        "es = EarlyStopping(monitor = 'val_accuracy',\n",
        "                   mode = 'max',\n",
        "                   patience = 5,\n",
        "                   verbose = 1,\n",
        "                   restore_best_weights = True)\n"
      ]
    },
    {
      "cell_type": "code",
      "execution_count": 16,
      "metadata": {
        "id": "bWzsg86jhNOf",
        "colab": {
          "base_uri": "https://localhost:8080/"
        },
        "outputId": "4ebe926e-ffe4-45c8-a51f-ac9ab6c74725"
      },
      "outputs": [
        {
          "output_type": "stream",
          "name": "stdout",
          "text": [
            "Epoch 1/10\n",
            "16/16 [==============================] - 30s 971ms/step - loss: 22.2293 - accuracy: 0.6769 - recall: 0.7463 - val_loss: 7.9958 - val_accuracy: 0.7299 - val_recall: 0.8779\n",
            "Epoch 2/10\n",
            "16/16 [==============================] - 7s 437ms/step - loss: 2.1891 - accuracy: 0.8773 - recall: 0.9027 - val_loss: 9.3044 - val_accuracy: 0.7299 - val_recall: 0.9924\n",
            "Epoch 3/10\n",
            "16/16 [==============================] - 7s 428ms/step - loss: 1.2276 - accuracy: 0.9162 - recall: 0.9528 - val_loss: 5.0757 - val_accuracy: 0.6777 - val_recall: 0.6489\n",
            "Epoch 4/10\n",
            "16/16 [==============================] - 8s 511ms/step - loss: 0.1851 - accuracy: 0.9693 - recall: 0.9882 - val_loss: 5.2321 - val_accuracy: 0.7536 - val_recall: 0.8168\n",
            "Epoch 5/10\n",
            "16/16 [==============================] - 8s 485ms/step - loss: 0.0749 - accuracy: 0.9918 - recall: 0.9882 - val_loss: 5.7940 - val_accuracy: 0.7393 - val_recall: 0.8855\n",
            "Epoch 6/10\n",
            "16/16 [==============================] - 7s 465ms/step - loss: 0.0113 - accuracy: 0.9959 - recall: 1.0000 - val_loss: 5.4312 - val_accuracy: 0.7299 - val_recall: 0.8702\n",
            "Epoch 7/10\n",
            "16/16 [==============================] - 8s 488ms/step - loss: 0.0088 - accuracy: 0.9959 - recall: 0.9941 - val_loss: 5.5512 - val_accuracy: 0.7346 - val_recall: 0.8855\n",
            "Epoch 8/10\n",
            "16/16 [==============================] - 8s 481ms/step - loss: 1.9472e-05 - accuracy: 1.0000 - recall: 1.0000 - val_loss: 6.1877 - val_accuracy: 0.7204 - val_recall: 0.9084\n",
            "Epoch 9/10\n",
            "16/16 [==============================] - ETA: 0s - loss: 4.5598e-04 - accuracy: 1.0000 - recall: 1.0000Restoring model weights from the end of the best epoch: 4.\n",
            "16/16 [==============================] - 8s 537ms/step - loss: 4.5598e-04 - accuracy: 1.0000 - recall: 1.0000 - val_loss: 6.1763 - val_accuracy: 0.7204 - val_recall: 0.9084\n",
            "Epoch 9: early stopping\n"
          ]
        }
      ],
      "source": [
        "history = model.fit(X_train, y_train,\n",
        "                    validation_split=0.3,\n",
        "                    epochs=10,\n",
        "                    batch_size=32,\n",
        "                    callbacks=[es])"
      ]
    },
    {
      "cell_type": "markdown",
      "metadata": {
        "id": "C5eLyyEzhNOf"
      },
      "source": [
        "### Evaluate on test set ###"
      ]
    },
    {
      "cell_type": "code",
      "source": [
        "print(model.evaluate(X_test, y_test, verbose=1))"
      ],
      "metadata": {
        "id": "D7sJdRWhn1p8",
        "colab": {
          "base_uri": "https://localhost:8080/"
        },
        "outputId": "c356796e-7f00-444b-84d5-92cf25b7ed80"
      },
      "execution_count": 17,
      "outputs": [
        {
          "output_type": "stream",
          "name": "stdout",
          "text": [
            "10/10 [==============================] - 5s 473ms/step - loss: 3.4392 - accuracy: 0.7967 - recall: 0.8131\n",
            "[3.4391520023345947, 0.79666668176651, 0.8130841255187988]\n"
          ]
        }
      ]
    }
  ],
  "metadata": {
    "kernelspec": {
      "display_name": "Python 3",
      "name": "python3"
    },
    "language_info": {
      "codemirror_mode": {
        "name": "ipython",
        "version": 3
      },
      "file_extension": ".py",
      "mimetype": "text/x-python",
      "name": "python",
      "nbconvert_exporter": "python",
      "pygments_lexer": "ipython3",
      "version": "3.10.6"
    },
    "toc": {
      "base_numbering": 1,
      "nav_menu": {},
      "number_sections": true,
      "sideBar": true,
      "skip_h1_title": false,
      "title_cell": "Table of Contents",
      "title_sidebar": "Contents",
      "toc_cell": false,
      "toc_position": {},
      "toc_section_display": true,
      "toc_window_display": false
    },
    "colab": {
      "provenance": [],
      "gpuType": "T4"
    },
    "accelerator": "GPU"
  },
  "nbformat": 4,
  "nbformat_minor": 0
}