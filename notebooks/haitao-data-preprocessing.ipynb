{
 "cells": [
  {
   "attachments": {},
   "cell_type": "markdown",
   "metadata": {},
   "source": [
    "import packages"
   ]
  },
  {
   "cell_type": "code",
   "execution_count": 2,
   "metadata": {},
   "outputs": [],
   "source": [
    "%reload_ext autoreload\n",
    "%autoreload 2\n",
    "\n",
    "import sys\n",
    "sys.path.append(\"..\")\n",
    "\n",
    "import os\n",
    "from PIL import Image\n",
    "from utils import *"
   ]
  },
  {
   "cell_type": "code",
   "execution_count": 5,
   "metadata": {},
   "outputs": [
    {
     "ename": "FileNotFoundError",
     "evalue": "[Errno 2] No such file or directory: './raw_data/ISIC_2019_Training_GroundTruth.csv'",
     "output_type": "error",
     "traceback": [
      "\u001b[0;31m---------------------------------------------------------------------------\u001b[0m",
      "\u001b[0;31mFileNotFoundError\u001b[0m                         Traceback (most recent call last)",
      "Cell \u001b[0;32mIn[5], line 1\u001b[0m\n\u001b[0;32m----> 1\u001b[0m data \u001b[39m=\u001b[39m get_ground_truth_data(\u001b[39m100\u001b[39;49m)\n\u001b[1;32m      2\u001b[0m data\n",
      "File \u001b[0;32m~/Projects/lewagon/code/skin_detection_1271/notebooks/../utils.py:53\u001b[0m, in \u001b[0;36mget_ground_truth_data\u001b[0;34m(number)\u001b[0m\n\u001b[1;32m     46\u001b[0m \u001b[39mdef\u001b[39;00m \u001b[39mget_ground_truth_data\u001b[39m(number\u001b[39m=\u001b[39m\u001b[39m80\u001b[39m):\n\u001b[1;32m     47\u001b[0m \u001b[39m    \u001b[39m\u001b[39m\"\"\"\u001b[39;00m\n\u001b[1;32m     48\u001b[0m \u001b[39m    when number is less than 800, return the 8 categories evenly.\u001b[39;00m\n\u001b[1;32m     49\u001b[0m \u001b[39m    when the number is larger than 800 return the 8 categories as per the following percentages:\u001b[39;00m\n\u001b[1;32m     50\u001b[0m \u001b[39m    NV=25%, BKL=15%, DF=5%, UASC=5%, MEL=15%, BCC=15%, AK=10%, SCC=10%\u001b[39;00m\n\u001b[1;32m     51\u001b[0m \u001b[39m    if the number is negative, return the entire dataset\u001b[39;00m\n\u001b[1;32m     52\u001b[0m \u001b[39m    \"\"\"\u001b[39;00m\n\u001b[0;32m---> 53\u001b[0m     data \u001b[39m=\u001b[39m load_raw_data()\n\u001b[1;32m     55\u001b[0m     \u001b[39mif\u001b[39;00m number\u001b[39m<\u001b[39m\u001b[39m0\u001b[39m \u001b[39mor\u001b[39;00m number\u001b[39m>\u001b[39mdata\u001b[39m.\u001b[39mshape[\u001b[39m0\u001b[39m]:\n\u001b[1;32m     56\u001b[0m             result \u001b[39m=\u001b[39m data\n",
      "File \u001b[0;32m~/Projects/lewagon/code/skin_detection_1271/notebooks/../utils.py:17\u001b[0m, in \u001b[0;36mload_raw_data\u001b[0;34m()\u001b[0m\n\u001b[1;32m     14\u001b[0m \u001b[39mdef\u001b[39;00m \u001b[39mload_raw_data\u001b[39m():\n\u001b[1;32m     15\u001b[0m     \u001b[39m# set data source\u001b[39;00m\n\u001b[1;32m     16\u001b[0m     data_url \u001b[39m=\u001b[39m \u001b[39m'\u001b[39m\u001b[39m./raw_data/ISIC_2019_Training_GroundTruth.csv\u001b[39m\u001b[39m'\u001b[39m\n\u001b[0;32m---> 17\u001b[0m     data \u001b[39m=\u001b[39m pd\u001b[39m.\u001b[39;49mread_csv(data_url)\n\u001b[1;32m     18\u001b[0m     \u001b[39m# Added a Cat column for conviniences\u001b[39;00m\n\u001b[1;32m     19\u001b[0m     data[\u001b[39m'\u001b[39m\u001b[39mCat\u001b[39m\u001b[39m'\u001b[39m]\u001b[39m=\u001b[39m\u001b[39m'\u001b[39m\u001b[39m'\u001b[39m\n",
      "File \u001b[0;32m~/.pyenv/versions/3.10.6/envs/skin_detection_1271/lib/python3.10/site-packages/pandas/io/parsers/readers.py:912\u001b[0m, in \u001b[0;36mread_csv\u001b[0;34m(filepath_or_buffer, sep, delimiter, header, names, index_col, usecols, dtype, engine, converters, true_values, false_values, skipinitialspace, skiprows, skipfooter, nrows, na_values, keep_default_na, na_filter, verbose, skip_blank_lines, parse_dates, infer_datetime_format, keep_date_col, date_parser, date_format, dayfirst, cache_dates, iterator, chunksize, compression, thousands, decimal, lineterminator, quotechar, quoting, doublequote, escapechar, comment, encoding, encoding_errors, dialect, on_bad_lines, delim_whitespace, low_memory, memory_map, float_precision, storage_options, dtype_backend)\u001b[0m\n\u001b[1;32m    899\u001b[0m kwds_defaults \u001b[39m=\u001b[39m _refine_defaults_read(\n\u001b[1;32m    900\u001b[0m     dialect,\n\u001b[1;32m    901\u001b[0m     delimiter,\n\u001b[0;32m   (...)\u001b[0m\n\u001b[1;32m    908\u001b[0m     dtype_backend\u001b[39m=\u001b[39mdtype_backend,\n\u001b[1;32m    909\u001b[0m )\n\u001b[1;32m    910\u001b[0m kwds\u001b[39m.\u001b[39mupdate(kwds_defaults)\n\u001b[0;32m--> 912\u001b[0m \u001b[39mreturn\u001b[39;00m _read(filepath_or_buffer, kwds)\n",
      "File \u001b[0;32m~/.pyenv/versions/3.10.6/envs/skin_detection_1271/lib/python3.10/site-packages/pandas/io/parsers/readers.py:577\u001b[0m, in \u001b[0;36m_read\u001b[0;34m(filepath_or_buffer, kwds)\u001b[0m\n\u001b[1;32m    574\u001b[0m _validate_names(kwds\u001b[39m.\u001b[39mget(\u001b[39m\"\u001b[39m\u001b[39mnames\u001b[39m\u001b[39m\"\u001b[39m, \u001b[39mNone\u001b[39;00m))\n\u001b[1;32m    576\u001b[0m \u001b[39m# Create the parser.\u001b[39;00m\n\u001b[0;32m--> 577\u001b[0m parser \u001b[39m=\u001b[39m TextFileReader(filepath_or_buffer, \u001b[39m*\u001b[39;49m\u001b[39m*\u001b[39;49mkwds)\n\u001b[1;32m    579\u001b[0m \u001b[39mif\u001b[39;00m chunksize \u001b[39mor\u001b[39;00m iterator:\n\u001b[1;32m    580\u001b[0m     \u001b[39mreturn\u001b[39;00m parser\n",
      "File \u001b[0;32m~/.pyenv/versions/3.10.6/envs/skin_detection_1271/lib/python3.10/site-packages/pandas/io/parsers/readers.py:1407\u001b[0m, in \u001b[0;36mTextFileReader.__init__\u001b[0;34m(self, f, engine, **kwds)\u001b[0m\n\u001b[1;32m   1404\u001b[0m     \u001b[39mself\u001b[39m\u001b[39m.\u001b[39moptions[\u001b[39m\"\u001b[39m\u001b[39mhas_index_names\u001b[39m\u001b[39m\"\u001b[39m] \u001b[39m=\u001b[39m kwds[\u001b[39m\"\u001b[39m\u001b[39mhas_index_names\u001b[39m\u001b[39m\"\u001b[39m]\n\u001b[1;32m   1406\u001b[0m \u001b[39mself\u001b[39m\u001b[39m.\u001b[39mhandles: IOHandles \u001b[39m|\u001b[39m \u001b[39mNone\u001b[39;00m \u001b[39m=\u001b[39m \u001b[39mNone\u001b[39;00m\n\u001b[0;32m-> 1407\u001b[0m \u001b[39mself\u001b[39m\u001b[39m.\u001b[39m_engine \u001b[39m=\u001b[39m \u001b[39mself\u001b[39;49m\u001b[39m.\u001b[39;49m_make_engine(f, \u001b[39mself\u001b[39;49m\u001b[39m.\u001b[39;49mengine)\n",
      "File \u001b[0;32m~/.pyenv/versions/3.10.6/envs/skin_detection_1271/lib/python3.10/site-packages/pandas/io/parsers/readers.py:1661\u001b[0m, in \u001b[0;36mTextFileReader._make_engine\u001b[0;34m(self, f, engine)\u001b[0m\n\u001b[1;32m   1659\u001b[0m     \u001b[39mif\u001b[39;00m \u001b[39m\"\u001b[39m\u001b[39mb\u001b[39m\u001b[39m\"\u001b[39m \u001b[39mnot\u001b[39;00m \u001b[39min\u001b[39;00m mode:\n\u001b[1;32m   1660\u001b[0m         mode \u001b[39m+\u001b[39m\u001b[39m=\u001b[39m \u001b[39m\"\u001b[39m\u001b[39mb\u001b[39m\u001b[39m\"\u001b[39m\n\u001b[0;32m-> 1661\u001b[0m \u001b[39mself\u001b[39m\u001b[39m.\u001b[39mhandles \u001b[39m=\u001b[39m get_handle(\n\u001b[1;32m   1662\u001b[0m     f,\n\u001b[1;32m   1663\u001b[0m     mode,\n\u001b[1;32m   1664\u001b[0m     encoding\u001b[39m=\u001b[39;49m\u001b[39mself\u001b[39;49m\u001b[39m.\u001b[39;49moptions\u001b[39m.\u001b[39;49mget(\u001b[39m\"\u001b[39;49m\u001b[39mencoding\u001b[39;49m\u001b[39m\"\u001b[39;49m, \u001b[39mNone\u001b[39;49;00m),\n\u001b[1;32m   1665\u001b[0m     compression\u001b[39m=\u001b[39;49m\u001b[39mself\u001b[39;49m\u001b[39m.\u001b[39;49moptions\u001b[39m.\u001b[39;49mget(\u001b[39m\"\u001b[39;49m\u001b[39mcompression\u001b[39;49m\u001b[39m\"\u001b[39;49m, \u001b[39mNone\u001b[39;49;00m),\n\u001b[1;32m   1666\u001b[0m     memory_map\u001b[39m=\u001b[39;49m\u001b[39mself\u001b[39;49m\u001b[39m.\u001b[39;49moptions\u001b[39m.\u001b[39;49mget(\u001b[39m\"\u001b[39;49m\u001b[39mmemory_map\u001b[39;49m\u001b[39m\"\u001b[39;49m, \u001b[39mFalse\u001b[39;49;00m),\n\u001b[1;32m   1667\u001b[0m     is_text\u001b[39m=\u001b[39;49mis_text,\n\u001b[1;32m   1668\u001b[0m     errors\u001b[39m=\u001b[39;49m\u001b[39mself\u001b[39;49m\u001b[39m.\u001b[39;49moptions\u001b[39m.\u001b[39;49mget(\u001b[39m\"\u001b[39;49m\u001b[39mencoding_errors\u001b[39;49m\u001b[39m\"\u001b[39;49m, \u001b[39m\"\u001b[39;49m\u001b[39mstrict\u001b[39;49m\u001b[39m\"\u001b[39;49m),\n\u001b[1;32m   1669\u001b[0m     storage_options\u001b[39m=\u001b[39;49m\u001b[39mself\u001b[39;49m\u001b[39m.\u001b[39;49moptions\u001b[39m.\u001b[39;49mget(\u001b[39m\"\u001b[39;49m\u001b[39mstorage_options\u001b[39;49m\u001b[39m\"\u001b[39;49m, \u001b[39mNone\u001b[39;49;00m),\n\u001b[1;32m   1670\u001b[0m )\n\u001b[1;32m   1671\u001b[0m \u001b[39massert\u001b[39;00m \u001b[39mself\u001b[39m\u001b[39m.\u001b[39mhandles \u001b[39mis\u001b[39;00m \u001b[39mnot\u001b[39;00m \u001b[39mNone\u001b[39;00m\n\u001b[1;32m   1672\u001b[0m f \u001b[39m=\u001b[39m \u001b[39mself\u001b[39m\u001b[39m.\u001b[39mhandles\u001b[39m.\u001b[39mhandle\n",
      "File \u001b[0;32m~/.pyenv/versions/3.10.6/envs/skin_detection_1271/lib/python3.10/site-packages/pandas/io/common.py:859\u001b[0m, in \u001b[0;36mget_handle\u001b[0;34m(path_or_buf, mode, encoding, compression, memory_map, is_text, errors, storage_options)\u001b[0m\n\u001b[1;32m    854\u001b[0m \u001b[39melif\u001b[39;00m \u001b[39misinstance\u001b[39m(handle, \u001b[39mstr\u001b[39m):\n\u001b[1;32m    855\u001b[0m     \u001b[39m# Check whether the filename is to be opened in binary mode.\u001b[39;00m\n\u001b[1;32m    856\u001b[0m     \u001b[39m# Binary mode does not support 'encoding' and 'newline'.\u001b[39;00m\n\u001b[1;32m    857\u001b[0m     \u001b[39mif\u001b[39;00m ioargs\u001b[39m.\u001b[39mencoding \u001b[39mand\u001b[39;00m \u001b[39m\"\u001b[39m\u001b[39mb\u001b[39m\u001b[39m\"\u001b[39m \u001b[39mnot\u001b[39;00m \u001b[39min\u001b[39;00m ioargs\u001b[39m.\u001b[39mmode:\n\u001b[1;32m    858\u001b[0m         \u001b[39m# Encoding\u001b[39;00m\n\u001b[0;32m--> 859\u001b[0m         handle \u001b[39m=\u001b[39m \u001b[39mopen\u001b[39;49m(\n\u001b[1;32m    860\u001b[0m             handle,\n\u001b[1;32m    861\u001b[0m             ioargs\u001b[39m.\u001b[39;49mmode,\n\u001b[1;32m    862\u001b[0m             encoding\u001b[39m=\u001b[39;49mioargs\u001b[39m.\u001b[39;49mencoding,\n\u001b[1;32m    863\u001b[0m             errors\u001b[39m=\u001b[39;49merrors,\n\u001b[1;32m    864\u001b[0m             newline\u001b[39m=\u001b[39;49m\u001b[39m\"\u001b[39;49m\u001b[39m\"\u001b[39;49m,\n\u001b[1;32m    865\u001b[0m         )\n\u001b[1;32m    866\u001b[0m     \u001b[39melse\u001b[39;00m:\n\u001b[1;32m    867\u001b[0m         \u001b[39m# Binary mode\u001b[39;00m\n\u001b[1;32m    868\u001b[0m         handle \u001b[39m=\u001b[39m \u001b[39mopen\u001b[39m(handle, ioargs\u001b[39m.\u001b[39mmode)\n",
      "\u001b[0;31mFileNotFoundError\u001b[0m: [Errno 2] No such file or directory: './raw_data/ISIC_2019_Training_GroundTruth.csv'"
     ]
    }
   ],
   "source": [
    "data = get_ground_truth_data(100)\n",
    "data"
   ]
  },
  {
   "cell_type": "code",
   "execution_count": null,
   "metadata": {},
   "outputs": [],
   "source": [
    "n_samples = 64\n",
    "image_samples= get_ground_truth_data(n_samples)\n",
    "\n",
    "num_cols = 4  # Number of columns in the grid\n",
    "num_rows = (n_samples*2 - 1) // num_cols + 1  # Number of rows in the grid\n",
    "\n",
    "fig, axes = plt.subplots(num_rows, num_cols, figsize=(4*num_cols, 4*num_rows))\n",
    "\n",
    "for i in range(n_samples):\n",
    "    sample=image_samples.loc[i]\n",
    "    # Load the image\n",
    "    image_file_name=f\"{os.path.sep.join(['raw_data', sample.Cat, sample.image])}.jpg\"\n",
    "    image = Image.open(image_file_name)\n",
    "    # Square_Crop\n",
    "    image = square_image(image)\n",
    "    # Detect corner edges\n",
    "    radius = detect_black_coners(image)\n",
    "    if radius> 0:\n",
    "        image_cropped=remove_black_cornors(image, radius=radius)\n",
    "    ax = axes[(i // num_cols)*2, i % num_cols] if num_rows > 1 else axes[i % num_cols]\n",
    "    display_image_with_circle(image, radius, ax)\n",
    "    if radius> 0:\n",
    "        image_cropped=remove_black_cornors(image, radius=radius)\n",
    "        ax = axes[(i // num_cols)*2+1, i % num_cols] if num_rows > 1 else axes[i % num_cols]\n",
    "        display_image(image_cropped, ax)\n",
    "\n",
    "plt.tight_layout()\n",
    "plt.show()"
   ]
  },
  {
   "cell_type": "code",
   "execution_count": null,
   "metadata": {},
   "outputs": [],
   "source": [
    "# Negative: (NV-12878, BKL-2624, DF-239, VASC-253)\n",
    "# Positive: (MEL-4522, BCC-3323, AK-867, SCC-628)\n",
    "\n",
    "# NV - reduce to 4500\n",
    "# BKL/DF/VASC - no change\n",
    "# MEL/BCC - no change\n",
    "# AK/SCC - *5\n",
    "\n",
    "data = load_raw_data()\n",
    "data_NV_drop =  data[data.Cat=='NV'].sample(8000, random_state=42)\n",
    "\n",
    "balanced_data = data.drop(data_NV_drop.index)\n",
    "balanced_data.to_csv('processed_data/ISIC_2019_Training_GroundTruth_Processed.csv', index=False)"
   ]
  },
  {
   "cell_type": "code",
   "execution_count": null,
   "metadata": {},
   "outputs": [],
   "source": [
    "VASC_images = balanced_data.loc[balanced_data.Cat=='NV']\n",
    "VASC_images.shape[0]"
   ]
  },
  {
   "cell_type": "code",
   "execution_count": null,
   "metadata": {},
   "outputs": [],
   "source": [
    ".############################## Expport images.##############################\n",
    "images = balanced_data\n",
    "for i in range(images.shape[0]):\n",
    "    item=images.iloc[i]\n",
    "    image_file_name=f\"{os.path.sep.join(['raw_data', item.Cat, item.image])}.jpg\"\n",
    "    image_file_name_output=f\"{os.path.sep.join(['processed_data', item.Cat, item.image])}.jpg\"\n",
    "    \n",
    "    # Load the image\n",
    "    image = Image.open(image_file_name)\n",
    "    # Square_Crop\n",
    "    image = square_image(image)\n",
    "\n",
    "    # Detect and remove corner edges\n",
    "    radius = detect_black_coners(image)\n",
    "    if radius> 0:\n",
    "        image=remove_black_cornors(image, radius=radius)\n",
    "    # resize image\n",
    "    image = image.resize((400,400),resample=Image.BILINEAR)\n",
    "    \n",
    "    # export image file\n",
    "    image.save(image_file_name_output)\n",
    "    print(f'file {image_file_name_output} saved...')"
   ]
  },
  {
   "cell_type": "code",
   "execution_count": null,
   "metadata": {},
   "outputs": [],
   "source": [
    "file_name = 'processed_data/ISIC_2019_Training_GroundTruth_Processed.csv'\n",
    "data_processed = pd.read_csv(file_name)\n",
    "data_processed\n"
   ]
  },
  {
   "cell_type": "code",
   "execution_count": null,
   "metadata": {},
   "outputs": [],
   "source": [
    "# Negative: (NV-12878, BKL-2624, DF-239, VASC-253)\n",
    "# Positive: (MEL-4522, BCC-3323, AK-867, SCC-628)\n",
    "# \n",
    "data_processed.loc[data_processed.Cat=='AK']"
   ]
  },
  {
   "cell_type": "code",
   "execution_count": null,
   "metadata": {},
   "outputs": [],
   "source": [
    "images = data_processed.loc[data_processed.Cat=='SCC']\n",
    "for i in range(images.shape[0]):\n",
    "    item=images.iloc[i]\n",
    "    image_file_name=f\"{os.path.sep.join(['processed_data', item.Cat, item.image])}.jpg\"\n",
    "   # Load the image\n",
    "    image = Image.open(image_file_name)\n",
    "    # export image file\n",
    "    for deg in range(90, 271, 90):\n",
    "        image_file_name_out=f\"{os.path.sep.join(['processed_data', item.Cat+'_', item.image+'_'+str(deg)])}.jpg\"\n",
    "        rotated_image = image.rotate(deg)\n",
    "        rotated_image.save(image_file_name_out)\n",
    "        print(f'file {image_file_name_out} saved...')\n",
    "    flipped_image = image.transpose(Image.FLIP_LEFT_RIGHT)\n",
    "    image_file_name_out=f\"{os.path.sep.join(['processed_data', item.Cat+'_', item.image+'_flipped'])}.jpg\"\n",
    "    flipped_image.save(image_file_name_out)\n",
    "    print(f'file {image_file_name_out} saved...')\n"
   ]
  },
  {
   "cell_type": "code",
   "execution_count": null,
   "metadata": {},
   "outputs": [],
   "source": [
    "SCC = data_processed.loc[data_processed.Cat=='SCC']\n",
    "SCC_90 = SCC.copy()\n",
    "SCC_90.image=SCC.image+'_90'\n",
    "SCC_90\n",
    "SCC_180 = SCC.copy()\n",
    "SCC_180.image=SCC.image+'_180'\n",
    "SCC_180\n",
    "SCC_270 = SCC.copy()\n",
    "SCC_270.image=SCC.image+'_270'\n",
    "SCC_270\n",
    "SCC_flipped = SCC.copy()\n",
    "SCC_flipped.image=SCC.image+'_flipped'\n",
    "SCC_flipped\n",
    "\n",
    "AK = data_processed.loc[data_processed.Cat=='AK']\n",
    "AK_90 = AK.copy()\n",
    "AK_90.image=AK.image+'_90'\n",
    "AK_90\n",
    "AK_180 = AK.copy()\n",
    "AK_180.image=AK.image+'_180'\n",
    "AK_180\n",
    "AK_270 = AK.copy()\n",
    "AK_270.image=AK.image+'_270'\n",
    "AK_270\n",
    "AK_flipped = AK.copy()\n",
    "AK_flipped.image=AK.image+'_flipped'\n",
    "AK_flipped\n",
    "pd = pd.concat([data_processed, SCC_90, SCC_180, SCC_270, SCC_270, SCC_flipped, AK_90, AK_180, AK_270, AK_270, AK_flipped])\n",
    "\n",
    "file_name = 'processed_data/ISIC_2019_Training_GroundTruth_Processed_Balanced.csv'\n",
    "pd.to_csv(file_name, index=False)"
   ]
  },
  {
   "cell_type": "code",
   "execution_count": null,
   "metadata": {},
   "outputs": [],
   "source": [
    "load_processed_balanced_data()"
   ]
  }
 ],
 "metadata": {
  "kernelspec": {
   "display_name": "skin_detection_1271",
   "language": "python",
   "name": "python3"
  },
  "language_info": {
   "codemirror_mode": {
    "name": "ipython",
    "version": 3
   },
   "file_extension": ".py",
   "mimetype": "text/x-python",
   "name": "python",
   "nbconvert_exporter": "python",
   "pygments_lexer": "ipython3",
   "version": "3.10.6"
  },
  "orig_nbformat": 4
 },
 "nbformat": 4,
 "nbformat_minor": 2
}
